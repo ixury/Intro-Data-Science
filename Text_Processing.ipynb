{
  "nbformat": 4,
  "nbformat_minor": 0,
  "metadata": {
    "colab": {
      "name": "Text Processing.ipynb",
      "provenance": [],
      "collapsed_sections": []
    },
    "kernelspec": {
      "name": "python3",
      "display_name": "Python 3"
    },
    "language_info": {
      "name": "python"
    }
  },
  "cells": [
    {
      "cell_type": "markdown",
      "source": [
        "\n",
        "#Sebelumnya, kamu harus mengenali apa itu Data Types (tipe data) . Berikut referensi yg dapat kamu gunakan\n",
        "1.   https://www.w3schools.com/python/python_datatypes.asp\n",
        "2.   https://belajarpython.com/tutorial/tipe-data-python\n",
        "\n",
        "\n",
        "---\n",
        "\n",
        "Catatan:\n",
        "\n",
        "*   Library adalah kumpulan modul yang berisi kode-kode yang dapat kita gunakan berulang kali. Penggunaan library membantu pemrograman menjadi lebih sederhana, karena programmer tidak perlu menulis kode yang sama berulang kali.\n",
        "\n",
        "\n",
        "*   Library NumPy (Numerical Python) digunakan untuk proses komputasi numerik, misalnya:  membuat array, matrix, aljabar linear. Dokumentasinya dapat dilihat di: https://numpy.org/doc/stable/user/absolute_beginners.html\n",
        "\n",
        "*   Library NLTK (Natural Language Tool Kit) adalah library yg digunakan untuk memproses data berupa teks. Dokumentasi: https://www.nltk.org/\n",
        "\n",
        "*   Library re (regex/Regular Expression) adalah suatu metode yg digunakan untuk mengenali atau mendeteksi suatu pola pada suatu string. Dokumentasi: https://docs.python.org/3/library/re.html\n",
        "\n",
        "\n",
        "\n",
        "*   Dokumentasi berisi penjelasan kode program (library)\n",
        "\n"
      ],
      "metadata": {
        "id": "9ObDwZD_6D9Q"
      }
    },
    {
      "cell_type": "code",
      "execution_count": null,
      "metadata": {
        "id": "keGk58wlCksh"
      },
      "outputs": [],
      "source": [
        "#Mengimpor library yang akan digunakan\n",
        "\n",
        "import numpy as np\n",
        "import nltk\n",
        "from nltk.corpus import stopwords\n",
        "from nltk.stem import SnowballStemmer\n",
        "from nltk.stem import WordNetLemmatizer\n",
        "from nltk import word_tokenize\n",
        "\n",
        "import re"
      ]
    },
    {
      "cell_type": "code",
      "source": [
        "#Sebelum kita melakukan pemrosesan teks. Kita harus membuka dan membaca teks yang akan kita bersihkan. Dengan fungsi open() dan juga read()\n",
        "#Jika kamu menggunakan google colab kamu dapat mengupload/membuat file teks kamu terlebih dahulu ke dalam folder google colab yg ada disebelah kiri (cara lain dapat menggunakan link file teks kamu, dengan library urllib, https://docs.python.org/3/library/urllib.request.html)\n",
        "txt = open(\"text.txt\", \"r\")\n",
        "text = txt.read()"
      ],
      "metadata": {
        "id": "7AYPlFfbEKae"
      },
      "execution_count": null,
      "outputs": []
    },
    {
      "cell_type": "code",
      "source": [
        "text"
      ],
      "metadata": {
        "colab": {
          "base_uri": "https://localhost:8080/",
          "height": 122
        },
        "id": "hquPbBJZE3RN",
        "outputId": "b7da7d78-4bef-45b0-e866-a8fea09790f3"
      },
      "execution_count": null,
      "outputs": [
        {
          "output_type": "execute_result",
          "data": {
            "text/plain": [
              "'Chapter One\\nA Stop on the Salt Route\\n1000 B.C.\\nAs they rounded a bend in the path that ran beside the river, Lara recognized the silhouette of a fig tree atop a nearby hill. The weather was hot and the days were long. The fig tree was in full leaf, but not yet bearing fruit.\\nSoon Lara spotted other landmarks—an outcropping of limestone beside the path that had a silhouette like a man’s face, a marshy spot beside the river where the waterfowl were easily startled, a tall tree that looked like a man with his arms upraised. They were drawing near to the place where there was an island in the river. The island was a good spot to make camp. They would sleep on the island tonight.\\nLara had been back and forth along the river path many times in her short life. Her people had not created the path—it had always been there, like the river—but their deerskin-shod feet and the wooden wheels of their handcarts kept the path well worn. Lara’s people were salt traders, and their livelihood took them on a continual journey.\\nAt the mouth of the river, the little group of half a dozen intermingled families gathered salt from the great salt beds beside the sea. They groomed and sifted the salt and loaded it into handcarts. When the carts were full, most of the group would stay behind, taking shelter amid rocks and simple lean-tos, while a band of fifteen or so of the heartier members set out on the path that ran alongside the river.\\nWith their precious cargo of salt, the travelers crossed the coastal lowlands and traveled toward the mountains. But Lara’s people never reached the mountaintops; they traveled only as far as the foothills. Many people lived in the forests and grassy meadows of the foothills, gathered in small villages. In return for salt, these people would give Lara’s people dried meat, animal skins, cloth spun from wool, clay pots, needles and scraping tools carved from bone, and little toys made of wood.\\nTheir bartering done, Lara and her people would travel back down the river path to the sea. The cycle would begin again.\\nIt had always been like this. Lara knew no other life. She traveled back and forth, up and down the river path. No single place was home. She liked the seaside, where there was always fish to eat, and the gentle lapping of the waves lulled her to sleep at night. She was less fond of the foothills, where the path grew steep, the nights could be cold, and views of great distances made her dizzy. She felt uneasy in the villages, and was often shy around strangers. The path itself was where she felt most at home. She loved the smell of the river on a hot day, and the croaking of frogs at night. Vines grew amid the lush foliage along the river, with berries that were good to eat. Even on the hottest day, sundown brought a cool breeze off the water, which sighed and sang amid the reeds and tall grasses.\\nOf all the places along the path, the area they were approaching, with the island in the river, was Lara’s favorite.\\nThe terrain along this stretch of the river was mostly flat, but in the immediate vicinity of the island, the land on the sunrise side was like a rumpled cloth, with hills and ridges and valleys. Among Lara’s people, there was a wooden baby’s crib, suitable for strapping to a cart, that had been passed down for generations. The island was shaped like that crib, longer than it was wide and pointed at the upriver end, where the flow had eroded both banks. The island was like a crib, and the group of hills on the sunrise side of the river were like old women mantled in heavy cloaks gathered to have a look at the baby in the crib—that was how Lara’s father had once described the lay of the land.\\nLarth spoke like that all the time, conjuring images of giants and monsters in the landscape. He could perceive the spirits, called numina, that dwelled in rocks and trees. Sometimes he could speak to them and hear what they had to say. The river was his oldest friend and told him where the fishing would be best. From whispers in the wind he could foretell the next day’s weather. Because of such skills, Larth was the leader of the group.\\n“We’re close to the island, aren’t we, Papa?” said Lara.\\n“How did you know?”\\n“The hills. First we start to see the hills, off to the right. The hills grow bigger. And just before we come to the island, we can see the silhouette of that fig tree up there, along the crest of that hill.”\\n“Good girl!” said Larth, proud of his daughter’s memory and powers of observation. He was a strong, handsome man with flecks of gray in his black beard. His wife had borne several children, but all had died very young except Lara, the last, whom his wife had died bearing. Lara was very precious to him. Like her mother, she had golden hair. Now that she had reached the age of childbearing, Lara was beginning to display the fullness of a woman’s hips and breasts. It was Larth’s greatest wish that he might live to see his own grandchildren. Not every man lived that long, but Larth was hopeful. He had been healthy all his life, partly, he believed, because he had always been careful to show respect to the numina he encountered on his journeys.\\nRespecting the numina was important. The numen of the river could suck a man under and drown him. The numen of a tree could trip a man with its roots, or drop a rotten branch on his head. Rocks could give way underfoot, chuckling with amusement at their own treachery. Even the sky, with a roar of fury, sometimes sent down fingers of fire that could roast a man like a rabbit on a spit, or worse, leave him alive but robbed of his senses. Larth had heard that the earth itself could open and swallow a man; though he had never actually seen such a thing, he nevertheless performed a ritual each morning, asking the earth’s permission before he went striding across it.\\n“There’s something so special about this place,” said Lara, gazing at the sparkling river to her left and then at the rocky, tree-spotted hills ahead and to her right. “How was it made? Who made it?”\\nLarth frowned. The question made no sense to him. A place was never made, it simply was. Small features might change over time. Uprooted by a storm, a tree might fall into the river. A boulder might decide to tumble down the hillside. The numina that animated all things went about reshaping the landscape from day to day, but the essential things never changed, and had always existed: the river, the hills, the sky, the sun, the sea, the salt beds at the mouth of the river.\\nHe was trying to think of some way to express these thoughts to Lara, when a deer, drinking at the river, was startled by their approach. The deer bolted up the brushy bank and onto the path. Instead of running to safety, the creature stood and stared at them. As clearly as if the animal had whispered aloud, Larth heard the words “Eat me.” The deer was offering herself.\\nLarth turned to shout an order, but the most skilled hunter of the group, a youth called Po, was already in motion. Po ran forward, raised the sharpened stick he always carried and hurled it whistling through the air between Larth and Lara.\\nA heartbeat later, the spear struck the deer’s breast with such force that the creature was knocked to the ground. Unable to rise, she thrashed her neck and flailed her long, slender legs. Po ran past Larth and Lara. When he reached the deer, he pulled the spear free and stabbed the creature again. The deer released a stifled noise, like a gasp, and stopped moving.\\nThere was a cheer from the group. Instead of yet another dinner of fish from the river, tonight there would be venison.\\nThe distance from the riverbank to the island was not great, but at this time of year—early summer—the river was too high to wade across. Lara’s people had long ago made simple rafts of branches lashed together with leather thongs, which they left on the riverbanks, repairing and replacing them as needed. When they last passed this way, there had been three rafts, all in good condition, left on the east bank. Two of the rafts were still there, but one was missing.\\n“I see it! There—pulled up on the bank of the island, almost hidden among those leaves,” said Po, whose eyes were sharp. “Someone must have used it to cross over.”\\n“Perhaps they’re still on the island,” said Larth. He did not begrudge others the use of the rafts, and the island was large enough to share. Nonetheless, the situation required caution. He cupped his hands to his mouth and gave a shout. It was not long before a man appeared on the bank of the island. The man waved.\\n“Do we know him?” said Larth, squinting.\\n“I don’t think so,” said Po. “He’s young—my age or younger, I’d say. He looks strong.”\\n“Very strong!” said Lara. Even from this distance, the young stranger’s brawniness was impressive. He wore a short tunic without sleeves, and Lara had never seen such arms on a man.\\nPo, who was small and wiry, looked at Lara sidelong and frowned. “I’m not sure I like the look of this stranger.”\\n“Why not?” said Lara. “He’s smiling at us.”\\nIn fact, the young man was smiling at Lara, and Lara alone.\\nHis name was Tarketios. Much more than that, Larth could not tell, for the stranger spoke a language which Larth did not recognize, in which each word seemed as long and convoluted as the man’s name. Understanding the deer had been easier than understanding the strange noises uttered by this man and his two companions! Even so, they seemed friendly, and the three of them presented no threat to the more numerous salt traders.\\nTarketios and his two older companions were skilled metalworkers from a region some two hundred miles to the north, where the hills were rich with iron, copper, and lead. They had been on a trading journey to the south and were returning home. Just as the river path carried Larth’s people from the seashore to the hills, so another path, perpendicular to the river, traversed the long coastal plain. Because the island provided an easy place to ford the river, it was here that the two paths intersected. On this occasion, the salt traders and the metal traders happened to arrive at the island on the same day. Now they met for the first time.\\nThe two groups made separate camps at opposite ends of the island. As a gesture of friendship, speaking with his hands, Larth invited Tarketios and the others to share the venison that night. As the hosts and their guests feasted around the roasting fire, Tarketios tried to explain something of his craft. Firelight glittered in Lara’s eyes as she watched Tarketios point at the flames and mime the act of hammering. Firelight danced across the flexing muscles of his arms and shoulders. When he smiled at her, his grin was like a boast. She had never seen teeth so white and so perfect.'"
            ],
            "application/vnd.google.colaboratory.intrinsic+json": {
              "type": "string"
            }
          },
          "metadata": {},
          "execution_count": 3
        }
      ]
    },
    {
      "cell_type": "code",
      "source": [
        "nltk.download('punkt')\n",
        "nltk.download('stopwords')\n",
        "nltk.download('wordnet')\n"
      ],
      "metadata": {
        "colab": {
          "base_uri": "https://localhost:8080/"
        },
        "id": "3oiTkWW5F8C0",
        "outputId": "6fbb1a74-6b1b-4a53-fa05-50bfba850c2e"
      },
      "execution_count": null,
      "outputs": [
        {
          "output_type": "stream",
          "name": "stderr",
          "text": [
            "[nltk_data] Downloading package punkt to /root/nltk_data...\n",
            "[nltk_data]   Unzipping tokenizers/punkt.zip.\n",
            "[nltk_data] Downloading package stopwords to /root/nltk_data...\n",
            "[nltk_data]   Unzipping corpora/stopwords.zip.\n",
            "[nltk_data] Downloading package wordnet to /root/nltk_data...\n",
            "[nltk_data]   Unzipping corpora/wordnet.zip.\n"
          ]
        },
        {
          "output_type": "execute_result",
          "data": {
            "text/plain": [
              "True"
            ]
          },
          "metadata": {},
          "execution_count": 4
        }
      ]
    },
    {
      "cell_type": "code",
      "source": [
        "nltk.download('omw-1.4')"
      ],
      "metadata": {
        "colab": {
          "base_uri": "https://localhost:8080/"
        },
        "id": "Izz2Gcz1RN2Z",
        "outputId": "fef1f259-66f1-4a4d-dd28-ba7d2d267b8d"
      },
      "execution_count": null,
      "outputs": [
        {
          "output_type": "stream",
          "name": "stderr",
          "text": [
            "[nltk_data] Downloading package omw-1.4 to /root/nltk_data...\n",
            "[nltk_data]   Unzipping corpora/omw-1.4.zip.\n"
          ]
        },
        {
          "output_type": "execute_result",
          "data": {
            "text/plain": [
              "True"
            ]
          },
          "metadata": {},
          "execution_count": 5
        }
      ]
    },
    {
      "cell_type": "code",
      "source": [
        "#Case Folding\n",
        "#Case folding berguna untuk menjadikan setiap huruf alphabet pada teks menjadi huruf kecil\n",
        "#Mengapa kita perlu melakukan ini? salah satu tujuannya untuk menjadikan setiap kata yg sama misal \"Aku\" dan \"aku\" diproses atau dianggap menjadi 1 kata yg sama.\n",
        "text = text.lower()"
      ],
      "metadata": {
        "id": "3y_1p-ljG83J"
      },
      "execution_count": null,
      "outputs": []
    },
    {
      "cell_type": "code",
      "source": [
        "text"
      ],
      "metadata": {
        "colab": {
          "base_uri": "https://localhost:8080/",
          "height": 122
        },
        "id": "RKVo2AlMHBP3",
        "outputId": "664b6ba8-5399-4e05-9a21-de20e97c4cfe"
      },
      "execution_count": null,
      "outputs": [
        {
          "output_type": "execute_result",
          "data": {
            "text/plain": [
              "'chapter one\\na stop on the salt route\\n1000 b.c.\\nas they rounded a bend in the path that ran beside the river, lara recognized the silhouette of a fig tree atop a nearby hill. the weather was hot and the days were long. the fig tree was in full leaf, but not yet bearing fruit.\\nsoon lara spotted other landmarks—an outcropping of limestone beside the path that had a silhouette like a man’s face, a marshy spot beside the river where the waterfowl were easily startled, a tall tree that looked like a man with his arms upraised. they were drawing near to the place where there was an island in the river. the island was a good spot to make camp. they would sleep on the island tonight.\\nlara had been back and forth along the river path many times in her short life. her people had not created the path—it had always been there, like the river—but their deerskin-shod feet and the wooden wheels of their handcarts kept the path well worn. lara’s people were salt traders, and their livelihood took them on a continual journey.\\nat the mouth of the river, the little group of half a dozen intermingled families gathered salt from the great salt beds beside the sea. they groomed and sifted the salt and loaded it into handcarts. when the carts were full, most of the group would stay behind, taking shelter amid rocks and simple lean-tos, while a band of fifteen or so of the heartier members set out on the path that ran alongside the river.\\nwith their precious cargo of salt, the travelers crossed the coastal lowlands and traveled toward the mountains. but lara’s people never reached the mountaintops; they traveled only as far as the foothills. many people lived in the forests and grassy meadows of the foothills, gathered in small villages. in return for salt, these people would give lara’s people dried meat, animal skins, cloth spun from wool, clay pots, needles and scraping tools carved from bone, and little toys made of wood.\\ntheir bartering done, lara and her people would travel back down the river path to the sea. the cycle would begin again.\\nit had always been like this. lara knew no other life. she traveled back and forth, up and down the river path. no single place was home. she liked the seaside, where there was always fish to eat, and the gentle lapping of the waves lulled her to sleep at night. she was less fond of the foothills, where the path grew steep, the nights could be cold, and views of great distances made her dizzy. she felt uneasy in the villages, and was often shy around strangers. the path itself was where she felt most at home. she loved the smell of the river on a hot day, and the croaking of frogs at night. vines grew amid the lush foliage along the river, with berries that were good to eat. even on the hottest day, sundown brought a cool breeze off the water, which sighed and sang amid the reeds and tall grasses.\\nof all the places along the path, the area they were approaching, with the island in the river, was lara’s favorite.\\nthe terrain along this stretch of the river was mostly flat, but in the immediate vicinity of the island, the land on the sunrise side was like a rumpled cloth, with hills and ridges and valleys. among lara’s people, there was a wooden baby’s crib, suitable for strapping to a cart, that had been passed down for generations. the island was shaped like that crib, longer than it was wide and pointed at the upriver end, where the flow had eroded both banks. the island was like a crib, and the group of hills on the sunrise side of the river were like old women mantled in heavy cloaks gathered to have a look at the baby in the crib—that was how lara’s father had once described the lay of the land.\\nlarth spoke like that all the time, conjuring images of giants and monsters in the landscape. he could perceive the spirits, called numina, that dwelled in rocks and trees. sometimes he could speak to them and hear what they had to say. the river was his oldest friend and told him where the fishing would be best. from whispers in the wind he could foretell the next day’s weather. because of such skills, larth was the leader of the group.\\n“we’re close to the island, aren’t we, papa?” said lara.\\n“how did you know?”\\n“the hills. first we start to see the hills, off to the right. the hills grow bigger. and just before we come to the island, we can see the silhouette of that fig tree up there, along the crest of that hill.”\\n“good girl!” said larth, proud of his daughter’s memory and powers of observation. he was a strong, handsome man with flecks of gray in his black beard. his wife had borne several children, but all had died very young except lara, the last, whom his wife had died bearing. lara was very precious to him. like her mother, she had golden hair. now that she had reached the age of childbearing, lara was beginning to display the fullness of a woman’s hips and breasts. it was larth’s greatest wish that he might live to see his own grandchildren. not every man lived that long, but larth was hopeful. he had been healthy all his life, partly, he believed, because he had always been careful to show respect to the numina he encountered on his journeys.\\nrespecting the numina was important. the numen of the river could suck a man under and drown him. the numen of a tree could trip a man with its roots, or drop a rotten branch on his head. rocks could give way underfoot, chuckling with amusement at their own treachery. even the sky, with a roar of fury, sometimes sent down fingers of fire that could roast a man like a rabbit on a spit, or worse, leave him alive but robbed of his senses. larth had heard that the earth itself could open and swallow a man; though he had never actually seen such a thing, he nevertheless performed a ritual each morning, asking the earth’s permission before he went striding across it.\\n“there’s something so special about this place,” said lara, gazing at the sparkling river to her left and then at the rocky, tree-spotted hills ahead and to her right. “how was it made? who made it?”\\nlarth frowned. the question made no sense to him. a place was never made, it simply was. small features might change over time. uprooted by a storm, a tree might fall into the river. a boulder might decide to tumble down the hillside. the numina that animated all things went about reshaping the landscape from day to day, but the essential things never changed, and had always existed: the river, the hills, the sky, the sun, the sea, the salt beds at the mouth of the river.\\nhe was trying to think of some way to express these thoughts to lara, when a deer, drinking at the river, was startled by their approach. the deer bolted up the brushy bank and onto the path. instead of running to safety, the creature stood and stared at them. as clearly as if the animal had whispered aloud, larth heard the words “eat me.” the deer was offering herself.\\nlarth turned to shout an order, but the most skilled hunter of the group, a youth called po, was already in motion. po ran forward, raised the sharpened stick he always carried and hurled it whistling through the air between larth and lara.\\na heartbeat later, the spear struck the deer’s breast with such force that the creature was knocked to the ground. unable to rise, she thrashed her neck and flailed her long, slender legs. po ran past larth and lara. when he reached the deer, he pulled the spear free and stabbed the creature again. the deer released a stifled noise, like a gasp, and stopped moving.\\nthere was a cheer from the group. instead of yet another dinner of fish from the river, tonight there would be venison.\\nthe distance from the riverbank to the island was not great, but at this time of year—early summer—the river was too high to wade across. lara’s people had long ago made simple rafts of branches lashed together with leather thongs, which they left on the riverbanks, repairing and replacing them as needed. when they last passed this way, there had been three rafts, all in good condition, left on the east bank. two of the rafts were still there, but one was missing.\\n“i see it! there—pulled up on the bank of the island, almost hidden among those leaves,” said po, whose eyes were sharp. “someone must have used it to cross over.”\\n“perhaps they’re still on the island,” said larth. he did not begrudge others the use of the rafts, and the island was large enough to share. nonetheless, the situation required caution. he cupped his hands to his mouth and gave a shout. it was not long before a man appeared on the bank of the island. the man waved.\\n“do we know him?” said larth, squinting.\\n“i don’t think so,” said po. “he’s young—my age or younger, i’d say. he looks strong.”\\n“very strong!” said lara. even from this distance, the young stranger’s brawniness was impressive. he wore a short tunic without sleeves, and lara had never seen such arms on a man.\\npo, who was small and wiry, looked at lara sidelong and frowned. “i’m not sure i like the look of this stranger.”\\n“why not?” said lara. “he’s smiling at us.”\\nin fact, the young man was smiling at lara, and lara alone.\\nhis name was tarketios. much more than that, larth could not tell, for the stranger spoke a language which larth did not recognize, in which each word seemed as long and convoluted as the man’s name. understanding the deer had been easier than understanding the strange noises uttered by this man and his two companions! even so, they seemed friendly, and the three of them presented no threat to the more numerous salt traders.\\ntarketios and his two older companions were skilled metalworkers from a region some two hundred miles to the north, where the hills were rich with iron, copper, and lead. they had been on a trading journey to the south and were returning home. just as the river path carried larth’s people from the seashore to the hills, so another path, perpendicular to the river, traversed the long coastal plain. because the island provided an easy place to ford the river, it was here that the two paths intersected. on this occasion, the salt traders and the metal traders happened to arrive at the island on the same day. now they met for the first time.\\nthe two groups made separate camps at opposite ends of the island. as a gesture of friendship, speaking with his hands, larth invited tarketios and the others to share the venison that night. as the hosts and their guests feasted around the roasting fire, tarketios tried to explain something of his craft. firelight glittered in lara’s eyes as she watched tarketios point at the flames and mime the act of hammering. firelight danced across the flexing muscles of his arms and shoulders. when he smiled at her, his grin was like a boast. she had never seen teeth so white and so perfect.'"
            ],
            "application/vnd.google.colaboratory.intrinsic+json": {
              "type": "string"
            }
          },
          "metadata": {},
          "execution_count": 7
        }
      ]
    },
    {
      "cell_type": "code",
      "source": [
        "#Menghapus karakter tertentu pada teks menggunakan regex\n",
        "#Pada contoh ini, regex digunakan untuk menghapus karakter yg tidak diperlukan. Implementasi lain yg dapat memanfaatkan regex adalah misalnya kamu ingin mengecek apakah email/nomor telpon valid atau tidak, kamu dapat membuat pola email/nomor telpon menggunakan regex. \n",
        "#Referensi:\n",
        "# https://www.geeksforgeeks.org/check-if-email-address-valid-or-not-in-python/\n",
        "# https://www.pythonindo.com/regular-expression/\n",
        "\n",
        "text = re.sub(r\"[-()\\\"#/@;:<>{}`+=~|.!?,]\", \"\", text)\n",
        "\n",
        "text"
      ],
      "metadata": {
        "colab": {
          "base_uri": "https://localhost:8080/",
          "height": 122
        },
        "id": "0Ov7PcVmOvUh",
        "outputId": "4f990da7-a8d0-4c8a-a86a-2c43ab5deee3"
      },
      "execution_count": null,
      "outputs": [
        {
          "output_type": "execute_result",
          "data": {
            "text/plain": [
              "'chapter one\\na stop on the salt route\\n1000 bc\\nas they rounded a bend in the path that ran beside the river lara recognized the silhouette of a fig tree atop a nearby hill the weather was hot and the days were long the fig tree was in full leaf but not yet bearing fruit\\nsoon lara spotted other landmarks—an outcropping of limestone beside the path that had a silhouette like a man’s face a marshy spot beside the river where the waterfowl were easily startled a tall tree that looked like a man with his arms upraised they were drawing near to the place where there was an island in the river the island was a good spot to make camp they would sleep on the island tonight\\nlara had been back and forth along the river path many times in her short life her people had not created the path—it had always been there like the river—but their deerskinshod feet and the wooden wheels of their handcarts kept the path well worn lara’s people were salt traders and their livelihood took them on a continual journey\\nat the mouth of the river the little group of half a dozen intermingled families gathered salt from the great salt beds beside the sea they groomed and sifted the salt and loaded it into handcarts when the carts were full most of the group would stay behind taking shelter amid rocks and simple leantos while a band of fifteen or so of the heartier members set out on the path that ran alongside the river\\nwith their precious cargo of salt the travelers crossed the coastal lowlands and traveled toward the mountains but lara’s people never reached the mountaintops they traveled only as far as the foothills many people lived in the forests and grassy meadows of the foothills gathered in small villages in return for salt these people would give lara’s people dried meat animal skins cloth spun from wool clay pots needles and scraping tools carved from bone and little toys made of wood\\ntheir bartering done lara and her people would travel back down the river path to the sea the cycle would begin again\\nit had always been like this lara knew no other life she traveled back and forth up and down the river path no single place was home she liked the seaside where there was always fish to eat and the gentle lapping of the waves lulled her to sleep at night she was less fond of the foothills where the path grew steep the nights could be cold and views of great distances made her dizzy she felt uneasy in the villages and was often shy around strangers the path itself was where she felt most at home she loved the smell of the river on a hot day and the croaking of frogs at night vines grew amid the lush foliage along the river with berries that were good to eat even on the hottest day sundown brought a cool breeze off the water which sighed and sang amid the reeds and tall grasses\\nof all the places along the path the area they were approaching with the island in the river was lara’s favorite\\nthe terrain along this stretch of the river was mostly flat but in the immediate vicinity of the island the land on the sunrise side was like a rumpled cloth with hills and ridges and valleys among lara’s people there was a wooden baby’s crib suitable for strapping to a cart that had been passed down for generations the island was shaped like that crib longer than it was wide and pointed at the upriver end where the flow had eroded both banks the island was like a crib and the group of hills on the sunrise side of the river were like old women mantled in heavy cloaks gathered to have a look at the baby in the crib—that was how lara’s father had once described the lay of the land\\nlarth spoke like that all the time conjuring images of giants and monsters in the landscape he could perceive the spirits called numina that dwelled in rocks and trees sometimes he could speak to them and hear what they had to say the river was his oldest friend and told him where the fishing would be best from whispers in the wind he could foretell the next day’s weather because of such skills larth was the leader of the group\\n“we’re close to the island aren’t we papa” said lara\\n“how did you know”\\n“the hills first we start to see the hills off to the right the hills grow bigger and just before we come to the island we can see the silhouette of that fig tree up there along the crest of that hill”\\n“good girl” said larth proud of his daughter’s memory and powers of observation he was a strong handsome man with flecks of gray in his black beard his wife had borne several children but all had died very young except lara the last whom his wife had died bearing lara was very precious to him like her mother she had golden hair now that she had reached the age of childbearing lara was beginning to display the fullness of a woman’s hips and breasts it was larth’s greatest wish that he might live to see his own grandchildren not every man lived that long but larth was hopeful he had been healthy all his life partly he believed because he had always been careful to show respect to the numina he encountered on his journeys\\nrespecting the numina was important the numen of the river could suck a man under and drown him the numen of a tree could trip a man with its roots or drop a rotten branch on his head rocks could give way underfoot chuckling with amusement at their own treachery even the sky with a roar of fury sometimes sent down fingers of fire that could roast a man like a rabbit on a spit or worse leave him alive but robbed of his senses larth had heard that the earth itself could open and swallow a man though he had never actually seen such a thing he nevertheless performed a ritual each morning asking the earth’s permission before he went striding across it\\n“there’s something so special about this place” said lara gazing at the sparkling river to her left and then at the rocky treespotted hills ahead and to her right “how was it made who made it”\\nlarth frowned the question made no sense to him a place was never made it simply was small features might change over time uprooted by a storm a tree might fall into the river a boulder might decide to tumble down the hillside the numina that animated all things went about reshaping the landscape from day to day but the essential things never changed and had always existed the river the hills the sky the sun the sea the salt beds at the mouth of the river\\nhe was trying to think of some way to express these thoughts to lara when a deer drinking at the river was startled by their approach the deer bolted up the brushy bank and onto the path instead of running to safety the creature stood and stared at them as clearly as if the animal had whispered aloud larth heard the words “eat me” the deer was offering herself\\nlarth turned to shout an order but the most skilled hunter of the group a youth called po was already in motion po ran forward raised the sharpened stick he always carried and hurled it whistling through the air between larth and lara\\na heartbeat later the spear struck the deer’s breast with such force that the creature was knocked to the ground unable to rise she thrashed her neck and flailed her long slender legs po ran past larth and lara when he reached the deer he pulled the spear free and stabbed the creature again the deer released a stifled noise like a gasp and stopped moving\\nthere was a cheer from the group instead of yet another dinner of fish from the river tonight there would be venison\\nthe distance from the riverbank to the island was not great but at this time of year—early summer—the river was too high to wade across lara’s people had long ago made simple rafts of branches lashed together with leather thongs which they left on the riverbanks repairing and replacing them as needed when they last passed this way there had been three rafts all in good condition left on the east bank two of the rafts were still there but one was missing\\n“i see it there—pulled up on the bank of the island almost hidden among those leaves” said po whose eyes were sharp “someone must have used it to cross over”\\n“perhaps they’re still on the island” said larth he did not begrudge others the use of the rafts and the island was large enough to share nonetheless the situation required caution he cupped his hands to his mouth and gave a shout it was not long before a man appeared on the bank of the island the man waved\\n“do we know him” said larth squinting\\n“i don’t think so” said po “he’s young—my age or younger i’d say he looks strong”\\n“very strong” said lara even from this distance the young stranger’s brawniness was impressive he wore a short tunic without sleeves and lara had never seen such arms on a man\\npo who was small and wiry looked at lara sidelong and frowned “i’m not sure i like the look of this stranger”\\n“why not” said lara “he’s smiling at us”\\nin fact the young man was smiling at lara and lara alone\\nhis name was tarketios much more than that larth could not tell for the stranger spoke a language which larth did not recognize in which each word seemed as long and convoluted as the man’s name understanding the deer had been easier than understanding the strange noises uttered by this man and his two companions even so they seemed friendly and the three of them presented no threat to the more numerous salt traders\\ntarketios and his two older companions were skilled metalworkers from a region some two hundred miles to the north where the hills were rich with iron copper and lead they had been on a trading journey to the south and were returning home just as the river path carried larth’s people from the seashore to the hills so another path perpendicular to the river traversed the long coastal plain because the island provided an easy place to ford the river it was here that the two paths intersected on this occasion the salt traders and the metal traders happened to arrive at the island on the same day now they met for the first time\\nthe two groups made separate camps at opposite ends of the island as a gesture of friendship speaking with his hands larth invited tarketios and the others to share the venison that night as the hosts and their guests feasted around the roasting fire tarketios tried to explain something of his craft firelight glittered in lara’s eyes as she watched tarketios point at the flames and mime the act of hammering firelight danced across the flexing muscles of his arms and shoulders when he smiled at her his grin was like a boast she had never seen teeth so white and so perfect'"
            ],
            "application/vnd.google.colaboratory.intrinsic+json": {
              "type": "string"
            }
          },
          "metadata": {},
          "execution_count": 8
        }
      ]
    },
    {
      "cell_type": "code",
      "source": [
        "#Word Tokenization\n",
        "#Tokenisasi digunakan untuk memisahkan teks menjadi bagian-bagian tertentu atau disebut token-token.\n",
        "tokens = word_tokenize(text)\n",
        "print(tokens)"
      ],
      "metadata": {
        "colab": {
          "base_uri": "https://localhost:8080/"
        },
        "id": "v9-S2U5PHCN9",
        "outputId": "44578d6d-f0a0-4185-aa7d-e2692bc9366c"
      },
      "execution_count": null,
      "outputs": [
        {
          "output_type": "stream",
          "name": "stdout",
          "text": [
            "['chapter', 'one', 'a', 'stop', 'on', 'the', 'salt', 'route', '1000', 'bc', 'as', 'they', 'rounded', 'a', 'bend', 'in', 'the', 'path', 'that', 'ran', 'beside', 'the', 'river', 'lara', 'recognized', 'the', 'silhouette', 'of', 'a', 'fig', 'tree', 'atop', 'a', 'nearby', 'hill', 'the', 'weather', 'was', 'hot', 'and', 'the', 'days', 'were', 'long', 'the', 'fig', 'tree', 'was', 'in', 'full', 'leaf', 'but', 'not', 'yet', 'bearing', 'fruit', 'soon', 'lara', 'spotted', 'other', 'landmarks—an', 'outcropping', 'of', 'limestone', 'beside', 'the', 'path', 'that', 'had', 'a', 'silhouette', 'like', 'a', 'man', '’', 's', 'face', 'a', 'marshy', 'spot', 'beside', 'the', 'river', 'where', 'the', 'waterfowl', 'were', 'easily', 'startled', 'a', 'tall', 'tree', 'that', 'looked', 'like', 'a', 'man', 'with', 'his', 'arms', 'upraised', 'they', 'were', 'drawing', 'near', 'to', 'the', 'place', 'where', 'there', 'was', 'an', 'island', 'in', 'the', 'river', 'the', 'island', 'was', 'a', 'good', 'spot', 'to', 'make', 'camp', 'they', 'would', 'sleep', 'on', 'the', 'island', 'tonight', 'lara', 'had', 'been', 'back', 'and', 'forth', 'along', 'the', 'river', 'path', 'many', 'times', 'in', 'her', 'short', 'life', 'her', 'people', 'had', 'not', 'created', 'the', 'path—it', 'had', 'always', 'been', 'there', 'like', 'the', 'river—but', 'their', 'deerskinshod', 'feet', 'and', 'the', 'wooden', 'wheels', 'of', 'their', 'handcarts', 'kept', 'the', 'path', 'well', 'worn', 'lara', '’', 's', 'people', 'were', 'salt', 'traders', 'and', 'their', 'livelihood', 'took', 'them', 'on', 'a', 'continual', 'journey', 'at', 'the', 'mouth', 'of', 'the', 'river', 'the', 'little', 'group', 'of', 'half', 'a', 'dozen', 'intermingled', 'families', 'gathered', 'salt', 'from', 'the', 'great', 'salt', 'beds', 'beside', 'the', 'sea', 'they', 'groomed', 'and', 'sifted', 'the', 'salt', 'and', 'loaded', 'it', 'into', 'handcarts', 'when', 'the', 'carts', 'were', 'full', 'most', 'of', 'the', 'group', 'would', 'stay', 'behind', 'taking', 'shelter', 'amid', 'rocks', 'and', 'simple', 'leantos', 'while', 'a', 'band', 'of', 'fifteen', 'or', 'so', 'of', 'the', 'heartier', 'members', 'set', 'out', 'on', 'the', 'path', 'that', 'ran', 'alongside', 'the', 'river', 'with', 'their', 'precious', 'cargo', 'of', 'salt', 'the', 'travelers', 'crossed', 'the', 'coastal', 'lowlands', 'and', 'traveled', 'toward', 'the', 'mountains', 'but', 'lara', '’', 's', 'people', 'never', 'reached', 'the', 'mountaintops', 'they', 'traveled', 'only', 'as', 'far', 'as', 'the', 'foothills', 'many', 'people', 'lived', 'in', 'the', 'forests', 'and', 'grassy', 'meadows', 'of', 'the', 'foothills', 'gathered', 'in', 'small', 'villages', 'in', 'return', 'for', 'salt', 'these', 'people', 'would', 'give', 'lara', '’', 's', 'people', 'dried', 'meat', 'animal', 'skins', 'cloth', 'spun', 'from', 'wool', 'clay', 'pots', 'needles', 'and', 'scraping', 'tools', 'carved', 'from', 'bone', 'and', 'little', 'toys', 'made', 'of', 'wood', 'their', 'bartering', 'done', 'lara', 'and', 'her', 'people', 'would', 'travel', 'back', 'down', 'the', 'river', 'path', 'to', 'the', 'sea', 'the', 'cycle', 'would', 'begin', 'again', 'it', 'had', 'always', 'been', 'like', 'this', 'lara', 'knew', 'no', 'other', 'life', 'she', 'traveled', 'back', 'and', 'forth', 'up', 'and', 'down', 'the', 'river', 'path', 'no', 'single', 'place', 'was', 'home', 'she', 'liked', 'the', 'seaside', 'where', 'there', 'was', 'always', 'fish', 'to', 'eat', 'and', 'the', 'gentle', 'lapping', 'of', 'the', 'waves', 'lulled', 'her', 'to', 'sleep', 'at', 'night', 'she', 'was', 'less', 'fond', 'of', 'the', 'foothills', 'where', 'the', 'path', 'grew', 'steep', 'the', 'nights', 'could', 'be', 'cold', 'and', 'views', 'of', 'great', 'distances', 'made', 'her', 'dizzy', 'she', 'felt', 'uneasy', 'in', 'the', 'villages', 'and', 'was', 'often', 'shy', 'around', 'strangers', 'the', 'path', 'itself', 'was', 'where', 'she', 'felt', 'most', 'at', 'home', 'she', 'loved', 'the', 'smell', 'of', 'the', 'river', 'on', 'a', 'hot', 'day', 'and', 'the', 'croaking', 'of', 'frogs', 'at', 'night', 'vines', 'grew', 'amid', 'the', 'lush', 'foliage', 'along', 'the', 'river', 'with', 'berries', 'that', 'were', 'good', 'to', 'eat', 'even', 'on', 'the', 'hottest', 'day', 'sundown', 'brought', 'a', 'cool', 'breeze', 'off', 'the', 'water', 'which', 'sighed', 'and', 'sang', 'amid', 'the', 'reeds', 'and', 'tall', 'grasses', 'of', 'all', 'the', 'places', 'along', 'the', 'path', 'the', 'area', 'they', 'were', 'approaching', 'with', 'the', 'island', 'in', 'the', 'river', 'was', 'lara', '’', 's', 'favorite', 'the', 'terrain', 'along', 'this', 'stretch', 'of', 'the', 'river', 'was', 'mostly', 'flat', 'but', 'in', 'the', 'immediate', 'vicinity', 'of', 'the', 'island', 'the', 'land', 'on', 'the', 'sunrise', 'side', 'was', 'like', 'a', 'rumpled', 'cloth', 'with', 'hills', 'and', 'ridges', 'and', 'valleys', 'among', 'lara', '’', 's', 'people', 'there', 'was', 'a', 'wooden', 'baby', '’', 's', 'crib', 'suitable', 'for', 'strapping', 'to', 'a', 'cart', 'that', 'had', 'been', 'passed', 'down', 'for', 'generations', 'the', 'island', 'was', 'shaped', 'like', 'that', 'crib', 'longer', 'than', 'it', 'was', 'wide', 'and', 'pointed', 'at', 'the', 'upriver', 'end', 'where', 'the', 'flow', 'had', 'eroded', 'both', 'banks', 'the', 'island', 'was', 'like', 'a', 'crib', 'and', 'the', 'group', 'of', 'hills', 'on', 'the', 'sunrise', 'side', 'of', 'the', 'river', 'were', 'like', 'old', 'women', 'mantled', 'in', 'heavy', 'cloaks', 'gathered', 'to', 'have', 'a', 'look', 'at', 'the', 'baby', 'in', 'the', 'crib—that', 'was', 'how', 'lara', '’', 's', 'father', 'had', 'once', 'described', 'the', 'lay', 'of', 'the', 'land', 'larth', 'spoke', 'like', 'that', 'all', 'the', 'time', 'conjuring', 'images', 'of', 'giants', 'and', 'monsters', 'in', 'the', 'landscape', 'he', 'could', 'perceive', 'the', 'spirits', 'called', 'numina', 'that', 'dwelled', 'in', 'rocks', 'and', 'trees', 'sometimes', 'he', 'could', 'speak', 'to', 'them', 'and', 'hear', 'what', 'they', 'had', 'to', 'say', 'the', 'river', 'was', 'his', 'oldest', 'friend', 'and', 'told', 'him', 'where', 'the', 'fishing', 'would', 'be', 'best', 'from', 'whispers', 'in', 'the', 'wind', 'he', 'could', 'foretell', 'the', 'next', 'day', '’', 's', 'weather', 'because', 'of', 'such', 'skills', 'larth', 'was', 'the', 'leader', 'of', 'the', 'group', '“', 'we', '’', 're', 'close', 'to', 'the', 'island', 'aren', '’', 't', 'we', 'papa', '”', 'said', 'lara', '“', 'how', 'did', 'you', 'know', '”', '“', 'the', 'hills', 'first', 'we', 'start', 'to', 'see', 'the', 'hills', 'off', 'to', 'the', 'right', 'the', 'hills', 'grow', 'bigger', 'and', 'just', 'before', 'we', 'come', 'to', 'the', 'island', 'we', 'can', 'see', 'the', 'silhouette', 'of', 'that', 'fig', 'tree', 'up', 'there', 'along', 'the', 'crest', 'of', 'that', 'hill', '”', '“', 'good', 'girl', '”', 'said', 'larth', 'proud', 'of', 'his', 'daughter', '’', 's', 'memory', 'and', 'powers', 'of', 'observation', 'he', 'was', 'a', 'strong', 'handsome', 'man', 'with', 'flecks', 'of', 'gray', 'in', 'his', 'black', 'beard', 'his', 'wife', 'had', 'borne', 'several', 'children', 'but', 'all', 'had', 'died', 'very', 'young', 'except', 'lara', 'the', 'last', 'whom', 'his', 'wife', 'had', 'died', 'bearing', 'lara', 'was', 'very', 'precious', 'to', 'him', 'like', 'her', 'mother', 'she', 'had', 'golden', 'hair', 'now', 'that', 'she', 'had', 'reached', 'the', 'age', 'of', 'childbearing', 'lara', 'was', 'beginning', 'to', 'display', 'the', 'fullness', 'of', 'a', 'woman', '’', 's', 'hips', 'and', 'breasts', 'it', 'was', 'larth', '’', 's', 'greatest', 'wish', 'that', 'he', 'might', 'live', 'to', 'see', 'his', 'own', 'grandchildren', 'not', 'every', 'man', 'lived', 'that', 'long', 'but', 'larth', 'was', 'hopeful', 'he', 'had', 'been', 'healthy', 'all', 'his', 'life', 'partly', 'he', 'believed', 'because', 'he', 'had', 'always', 'been', 'careful', 'to', 'show', 'respect', 'to', 'the', 'numina', 'he', 'encountered', 'on', 'his', 'journeys', 'respecting', 'the', 'numina', 'was', 'important', 'the', 'numen', 'of', 'the', 'river', 'could', 'suck', 'a', 'man', 'under', 'and', 'drown', 'him', 'the', 'numen', 'of', 'a', 'tree', 'could', 'trip', 'a', 'man', 'with', 'its', 'roots', 'or', 'drop', 'a', 'rotten', 'branch', 'on', 'his', 'head', 'rocks', 'could', 'give', 'way', 'underfoot', 'chuckling', 'with', 'amusement', 'at', 'their', 'own', 'treachery', 'even', 'the', 'sky', 'with', 'a', 'roar', 'of', 'fury', 'sometimes', 'sent', 'down', 'fingers', 'of', 'fire', 'that', 'could', 'roast', 'a', 'man', 'like', 'a', 'rabbit', 'on', 'a', 'spit', 'or', 'worse', 'leave', 'him', 'alive', 'but', 'robbed', 'of', 'his', 'senses', 'larth', 'had', 'heard', 'that', 'the', 'earth', 'itself', 'could', 'open', 'and', 'swallow', 'a', 'man', 'though', 'he', 'had', 'never', 'actually', 'seen', 'such', 'a', 'thing', 'he', 'nevertheless', 'performed', 'a', 'ritual', 'each', 'morning', 'asking', 'the', 'earth', '’', 's', 'permission', 'before', 'he', 'went', 'striding', 'across', 'it', '“', 'there', '’', 's', 'something', 'so', 'special', 'about', 'this', 'place', '”', 'said', 'lara', 'gazing', 'at', 'the', 'sparkling', 'river', 'to', 'her', 'left', 'and', 'then', 'at', 'the', 'rocky', 'treespotted', 'hills', 'ahead', 'and', 'to', 'her', 'right', '“', 'how', 'was', 'it', 'made', 'who', 'made', 'it', '”', 'larth', 'frowned', 'the', 'question', 'made', 'no', 'sense', 'to', 'him', 'a', 'place', 'was', 'never', 'made', 'it', 'simply', 'was', 'small', 'features', 'might', 'change', 'over', 'time', 'uprooted', 'by', 'a', 'storm', 'a', 'tree', 'might', 'fall', 'into', 'the', 'river', 'a', 'boulder', 'might', 'decide', 'to', 'tumble', 'down', 'the', 'hillside', 'the', 'numina', 'that', 'animated', 'all', 'things', 'went', 'about', 'reshaping', 'the', 'landscape', 'from', 'day', 'to', 'day', 'but', 'the', 'essential', 'things', 'never', 'changed', 'and', 'had', 'always', 'existed', 'the', 'river', 'the', 'hills', 'the', 'sky', 'the', 'sun', 'the', 'sea', 'the', 'salt', 'beds', 'at', 'the', 'mouth', 'of', 'the', 'river', 'he', 'was', 'trying', 'to', 'think', 'of', 'some', 'way', 'to', 'express', 'these', 'thoughts', 'to', 'lara', 'when', 'a', 'deer', 'drinking', 'at', 'the', 'river', 'was', 'startled', 'by', 'their', 'approach', 'the', 'deer', 'bolted', 'up', 'the', 'brushy', 'bank', 'and', 'onto', 'the', 'path', 'instead', 'of', 'running', 'to', 'safety', 'the', 'creature', 'stood', 'and', 'stared', 'at', 'them', 'as', 'clearly', 'as', 'if', 'the', 'animal', 'had', 'whispered', 'aloud', 'larth', 'heard', 'the', 'words', '“', 'eat', 'me', '”', 'the', 'deer', 'was', 'offering', 'herself', 'larth', 'turned', 'to', 'shout', 'an', 'order', 'but', 'the', 'most', 'skilled', 'hunter', 'of', 'the', 'group', 'a', 'youth', 'called', 'po', 'was', 'already', 'in', 'motion', 'po', 'ran', 'forward', 'raised', 'the', 'sharpened', 'stick', 'he', 'always', 'carried', 'and', 'hurled', 'it', 'whistling', 'through', 'the', 'air', 'between', 'larth', 'and', 'lara', 'a', 'heartbeat', 'later', 'the', 'spear', 'struck', 'the', 'deer', '’', 's', 'breast', 'with', 'such', 'force', 'that', 'the', 'creature', 'was', 'knocked', 'to', 'the', 'ground', 'unable', 'to', 'rise', 'she', 'thrashed', 'her', 'neck', 'and', 'flailed', 'her', 'long', 'slender', 'legs', 'po', 'ran', 'past', 'larth', 'and', 'lara', 'when', 'he', 'reached', 'the', 'deer', 'he', 'pulled', 'the', 'spear', 'free', 'and', 'stabbed', 'the', 'creature', 'again', 'the', 'deer', 'released', 'a', 'stifled', 'noise', 'like', 'a', 'gasp', 'and', 'stopped', 'moving', 'there', 'was', 'a', 'cheer', 'from', 'the', 'group', 'instead', 'of', 'yet', 'another', 'dinner', 'of', 'fish', 'from', 'the', 'river', 'tonight', 'there', 'would', 'be', 'venison', 'the', 'distance', 'from', 'the', 'riverbank', 'to', 'the', 'island', 'was', 'not', 'great', 'but', 'at', 'this', 'time', 'of', 'year—early', 'summer—the', 'river', 'was', 'too', 'high', 'to', 'wade', 'across', 'lara', '’', 's', 'people', 'had', 'long', 'ago', 'made', 'simple', 'rafts', 'of', 'branches', 'lashed', 'together', 'with', 'leather', 'thongs', 'which', 'they', 'left', 'on', 'the', 'riverbanks', 'repairing', 'and', 'replacing', 'them', 'as', 'needed', 'when', 'they', 'last', 'passed', 'this', 'way', 'there', 'had', 'been', 'three', 'rafts', 'all', 'in', 'good', 'condition', 'left', 'on', 'the', 'east', 'bank', 'two', 'of', 'the', 'rafts', 'were', 'still', 'there', 'but', 'one', 'was', 'missing', '“', 'i', 'see', 'it', 'there—pulled', 'up', 'on', 'the', 'bank', 'of', 'the', 'island', 'almost', 'hidden', 'among', 'those', 'leaves', '”', 'said', 'po', 'whose', 'eyes', 'were', 'sharp', '“', 'someone', 'must', 'have', 'used', 'it', 'to', 'cross', 'over', '”', '“', 'perhaps', 'they', '’', 're', 'still', 'on', 'the', 'island', '”', 'said', 'larth', 'he', 'did', 'not', 'begrudge', 'others', 'the', 'use', 'of', 'the', 'rafts', 'and', 'the', 'island', 'was', 'large', 'enough', 'to', 'share', 'nonetheless', 'the', 'situation', 'required', 'caution', 'he', 'cupped', 'his', 'hands', 'to', 'his', 'mouth', 'and', 'gave', 'a', 'shout', 'it', 'was', 'not', 'long', 'before', 'a', 'man', 'appeared', 'on', 'the', 'bank', 'of', 'the', 'island', 'the', 'man', 'waved', '“', 'do', 'we', 'know', 'him', '”', 'said', 'larth', 'squinting', '“', 'i', 'don', '’', 't', 'think', 'so', '”', 'said', 'po', '“', 'he', '’', 's', 'young—my', 'age', 'or', 'younger', 'i', '’', 'd', 'say', 'he', 'looks', 'strong', '”', '“', 'very', 'strong', '”', 'said', 'lara', 'even', 'from', 'this', 'distance', 'the', 'young', 'stranger', '’', 's', 'brawniness', 'was', 'impressive', 'he', 'wore', 'a', 'short', 'tunic', 'without', 'sleeves', 'and', 'lara', 'had', 'never', 'seen', 'such', 'arms', 'on', 'a', 'man', 'po', 'who', 'was', 'small', 'and', 'wiry', 'looked', 'at', 'lara', 'sidelong', 'and', 'frowned', '“', 'i', '’', 'm', 'not', 'sure', 'i', 'like', 'the', 'look', 'of', 'this', 'stranger', '”', '“', 'why', 'not', '”', 'said', 'lara', '“', 'he', '’', 's', 'smiling', 'at', 'us', '”', 'in', 'fact', 'the', 'young', 'man', 'was', 'smiling', 'at', 'lara', 'and', 'lara', 'alone', 'his', 'name', 'was', 'tarketios', 'much', 'more', 'than', 'that', 'larth', 'could', 'not', 'tell', 'for', 'the', 'stranger', 'spoke', 'a', 'language', 'which', 'larth', 'did', 'not', 'recognize', 'in', 'which', 'each', 'word', 'seemed', 'as', 'long', 'and', 'convoluted', 'as', 'the', 'man', '’', 's', 'name', 'understanding', 'the', 'deer', 'had', 'been', 'easier', 'than', 'understanding', 'the', 'strange', 'noises', 'uttered', 'by', 'this', 'man', 'and', 'his', 'two', 'companions', 'even', 'so', 'they', 'seemed', 'friendly', 'and', 'the', 'three', 'of', 'them', 'presented', 'no', 'threat', 'to', 'the', 'more', 'numerous', 'salt', 'traders', 'tarketios', 'and', 'his', 'two', 'older', 'companions', 'were', 'skilled', 'metalworkers', 'from', 'a', 'region', 'some', 'two', 'hundred', 'miles', 'to', 'the', 'north', 'where', 'the', 'hills', 'were', 'rich', 'with', 'iron', 'copper', 'and', 'lead', 'they', 'had', 'been', 'on', 'a', 'trading', 'journey', 'to', 'the', 'south', 'and', 'were', 'returning', 'home', 'just', 'as', 'the', 'river', 'path', 'carried', 'larth', '’', 's', 'people', 'from', 'the', 'seashore', 'to', 'the', 'hills', 'so', 'another', 'path', 'perpendicular', 'to', 'the', 'river', 'traversed', 'the', 'long', 'coastal', 'plain', 'because', 'the', 'island', 'provided', 'an', 'easy', 'place', 'to', 'ford', 'the', 'river', 'it', 'was', 'here', 'that', 'the', 'two', 'paths', 'intersected', 'on', 'this', 'occasion', 'the', 'salt', 'traders', 'and', 'the', 'metal', 'traders', 'happened', 'to', 'arrive', 'at', 'the', 'island', 'on', 'the', 'same', 'day', 'now', 'they', 'met', 'for', 'the', 'first', 'time', 'the', 'two', 'groups', 'made', 'separate', 'camps', 'at', 'opposite', 'ends', 'of', 'the', 'island', 'as', 'a', 'gesture', 'of', 'friendship', 'speaking', 'with', 'his', 'hands', 'larth', 'invited', 'tarketios', 'and', 'the', 'others', 'to', 'share', 'the', 'venison', 'that', 'night', 'as', 'the', 'hosts', 'and', 'their', 'guests', 'feasted', 'around', 'the', 'roasting', 'fire', 'tarketios', 'tried', 'to', 'explain', 'something', 'of', 'his', 'craft', 'firelight', 'glittered', 'in', 'lara', '’', 's', 'eyes', 'as', 'she', 'watched', 'tarketios', 'point', 'at', 'the', 'flames', 'and', 'mime', 'the', 'act', 'of', 'hammering', 'firelight', 'danced', 'across', 'the', 'flexing', 'muscles', 'of', 'his', 'arms', 'and', 'shoulders', 'when', 'he', 'smiled', 'at', 'her', 'his', 'grin', 'was', 'like', 'a', 'boast', 'she', 'had', 'never', 'seen', 'teeth', 'so', 'white', 'and', 'so', 'perfect']\n"
          ]
        }
      ]
    },
    {
      "cell_type": "code",
      "source": [
        "#Make Bag of Words\n",
        "#Bag of words digunakan untuk mengihitung seberaba sering token tertent muncul. Bag of words biasanya digunakan untuk pengklasifikasian teks.\n",
        "wordFreq = {}\n",
        "\n",
        "for word in tokens:\n",
        "  if word not in wordFreq:\n",
        "    wordFreq[word] = 1\n",
        "  else:\n",
        "    wordFreq[word] += 1\n",
        "\n",
        "print(wordFreq)"
      ],
      "metadata": {
        "colab": {
          "base_uri": "https://localhost:8080/"
        },
        "id": "JWEtkXCgI5Tp",
        "outputId": "72113278-b185-4935-a0d0-8fccf9d64838"
      },
      "execution_count": null,
      "outputs": [
        {
          "output_type": "stream",
          "name": "stdout",
          "text": [
            "{'chapter': 1, 'one': 2, 'a': 52, 'stop': 1, 'on': 20, 'the': 195, 'salt': 10, 'route': 1, '1000': 1, 'bc': 1, 'as': 12, 'they': 13, 'rounded': 1, 'bend': 1, 'in': 21, 'path': 13, 'that': 21, 'ran': 4, 'beside': 4, 'river': 25, 'lara': 27, 'recognized': 1, 'silhouette': 3, 'of': 56, 'fig': 3, 'tree': 6, 'atop': 1, 'nearby': 1, 'hill': 2, 'weather': 2, 'was': 45, 'hot': 2, 'and': 63, 'days': 1, 'were': 13, 'long': 7, 'full': 2, 'leaf': 1, 'but': 10, 'not': 10, 'yet': 2, 'bearing': 2, 'fruit': 1, 'soon': 1, 'spotted': 1, 'other': 2, 'landmarks—an': 1, 'outcropping': 1, 'limestone': 1, 'had': 26, 'like': 14, 'man': 14, '’': 28, 's': 22, 'face': 1, 'marshy': 1, 'spot': 2, 'where': 8, 'waterfowl': 1, 'easily': 1, 'startled': 2, 'tall': 2, 'looked': 2, 'with': 13, 'his': 20, 'arms': 3, 'upraised': 1, 'drawing': 1, 'near': 1, 'to': 45, 'place': 5, 'there': 10, 'an': 3, 'island': 17, 'good': 4, 'make': 1, 'camp': 1, 'would': 7, 'sleep': 2, 'tonight': 2, 'been': 9, 'back': 3, 'forth': 2, 'along': 5, 'many': 2, 'times': 1, 'her': 11, 'short': 2, 'life': 3, 'people': 10, 'created': 1, 'path—it': 1, 'always': 6, 'river—but': 1, 'their': 8, 'deerskinshod': 1, 'feet': 1, 'wooden': 2, 'wheels': 1, 'handcarts': 2, 'kept': 1, 'well': 1, 'worn': 1, 'traders': 4, 'livelihood': 1, 'took': 1, 'them': 5, 'continual': 1, 'journey': 2, 'at': 20, 'mouth': 3, 'little': 2, 'group': 6, 'half': 1, 'dozen': 1, 'intermingled': 1, 'families': 1, 'gathered': 3, 'from': 11, 'great': 3, 'beds': 2, 'sea': 3, 'groomed': 1, 'sifted': 1, 'loaded': 1, 'it': 13, 'into': 2, 'when': 5, 'carts': 1, 'most': 3, 'stay': 1, 'behind': 1, 'taking': 1, 'shelter': 1, 'amid': 3, 'rocks': 3, 'simple': 2, 'leantos': 1, 'while': 1, 'band': 1, 'fifteen': 1, 'or': 4, 'so': 7, 'heartier': 1, 'members': 1, 'set': 1, 'out': 1, 'alongside': 1, 'precious': 2, 'cargo': 1, 'travelers': 1, 'crossed': 1, 'coastal': 2, 'lowlands': 1, 'traveled': 3, 'toward': 1, 'mountains': 1, 'never': 6, 'reached': 3, 'mountaintops': 1, 'only': 1, 'far': 1, 'foothills': 3, 'lived': 2, 'forests': 1, 'grassy': 1, 'meadows': 1, 'small': 3, 'villages': 2, 'return': 1, 'for': 5, 'these': 2, 'give': 2, 'dried': 1, 'meat': 1, 'animal': 2, 'skins': 1, 'cloth': 2, 'spun': 1, 'wool': 1, 'clay': 1, 'pots': 1, 'needles': 1, 'scraping': 1, 'tools': 1, 'carved': 1, 'bone': 1, 'toys': 1, 'made': 8, 'wood': 1, 'bartering': 1, 'done': 1, 'travel': 1, 'down': 5, 'cycle': 1, 'begin': 1, 'again': 2, 'this': 9, 'knew': 1, 'no': 4, 'she': 11, 'up': 4, 'single': 1, 'home': 3, 'liked': 1, 'seaside': 1, 'fish': 2, 'eat': 3, 'gentle': 1, 'lapping': 1, 'waves': 1, 'lulled': 1, 'night': 3, 'less': 1, 'fond': 1, 'grew': 2, 'steep': 1, 'nights': 1, 'could': 10, 'be': 3, 'cold': 1, 'views': 1, 'distances': 1, 'dizzy': 1, 'felt': 2, 'uneasy': 1, 'often': 1, 'shy': 1, 'around': 2, 'strangers': 1, 'itself': 2, 'loved': 1, 'smell': 1, 'day': 6, 'croaking': 1, 'frogs': 1, 'vines': 1, 'lush': 1, 'foliage': 1, 'berries': 1, 'even': 4, 'hottest': 1, 'sundown': 1, 'brought': 1, 'cool': 1, 'breeze': 1, 'off': 2, 'water': 1, 'which': 4, 'sighed': 1, 'sang': 1, 'reeds': 1, 'grasses': 1, 'all': 6, 'places': 1, 'area': 1, 'approaching': 1, 'favorite': 1, 'terrain': 1, 'stretch': 1, 'mostly': 1, 'flat': 1, 'immediate': 1, 'vicinity': 1, 'land': 2, 'sunrise': 2, 'side': 2, 'rumpled': 1, 'hills': 9, 'ridges': 1, 'valleys': 1, 'among': 2, 'baby': 2, 'crib': 3, 'suitable': 1, 'strapping': 1, 'cart': 1, 'passed': 2, 'generations': 1, 'shaped': 1, 'longer': 1, 'than': 3, 'wide': 1, 'pointed': 1, 'upriver': 1, 'end': 1, 'flow': 1, 'eroded': 1, 'both': 1, 'banks': 1, 'old': 1, 'women': 1, 'mantled': 1, 'heavy': 1, 'cloaks': 1, 'have': 2, 'look': 2, 'crib—that': 1, 'how': 3, 'father': 1, 'once': 1, 'described': 1, 'lay': 1, 'larth': 17, 'spoke': 2, 'time': 4, 'conjuring': 1, 'images': 1, 'giants': 1, 'monsters': 1, 'landscape': 2, 'he': 23, 'perceive': 1, 'spirits': 1, 'called': 2, 'numina': 4, 'dwelled': 1, 'trees': 1, 'sometimes': 2, 'speak': 1, 'hear': 1, 'what': 1, 'say': 2, 'oldest': 1, 'friend': 1, 'told': 1, 'him': 6, 'fishing': 1, 'best': 1, 'whispers': 1, 'wind': 1, 'foretell': 1, 'next': 1, 'because': 3, 'such': 4, 'skills': 1, 'leader': 1, '“': 17, 'we': 6, 're': 2, 'close': 1, 'aren': 1, 't': 2, 'papa': 1, '”': 17, 'said': 9, 'did': 3, 'you': 1, 'know': 2, 'first': 2, 'start': 1, 'see': 4, 'right': 2, 'grow': 1, 'bigger': 1, 'just': 2, 'before': 3, 'come': 1, 'can': 1, 'crest': 1, 'girl': 1, 'proud': 1, 'daughter': 1, 'memory': 1, 'powers': 1, 'observation': 1, 'strong': 3, 'handsome': 1, 'flecks': 1, 'gray': 1, 'black': 1, 'beard': 1, 'wife': 2, 'borne': 1, 'several': 1, 'children': 1, 'died': 2, 'very': 3, 'young': 3, 'except': 1, 'last': 2, 'whom': 1, 'mother': 1, 'golden': 1, 'hair': 1, 'now': 2, 'age': 2, 'childbearing': 1, 'beginning': 1, 'display': 1, 'fullness': 1, 'woman': 1, 'hips': 1, 'breasts': 1, 'greatest': 1, 'wish': 1, 'might': 4, 'live': 1, 'own': 2, 'grandchildren': 1, 'every': 1, 'hopeful': 1, 'healthy': 1, 'partly': 1, 'believed': 1, 'careful': 1, 'show': 1, 'respect': 1, 'encountered': 1, 'journeys': 1, 'respecting': 1, 'important': 1, 'numen': 2, 'suck': 1, 'under': 1, 'drown': 1, 'trip': 1, 'its': 1, 'roots': 1, 'drop': 1, 'rotten': 1, 'branch': 1, 'head': 1, 'way': 3, 'underfoot': 1, 'chuckling': 1, 'amusement': 1, 'treachery': 1, 'sky': 2, 'roar': 1, 'fury': 1, 'sent': 1, 'fingers': 1, 'fire': 2, 'roast': 1, 'rabbit': 1, 'spit': 1, 'worse': 1, 'leave': 1, 'alive': 1, 'robbed': 1, 'senses': 1, 'heard': 2, 'earth': 2, 'open': 1, 'swallow': 1, 'though': 1, 'actually': 1, 'seen': 3, 'thing': 1, 'nevertheless': 1, 'performed': 1, 'ritual': 1, 'each': 2, 'morning': 1, 'asking': 1, 'permission': 1, 'went': 2, 'striding': 1, 'across': 3, 'something': 2, 'special': 1, 'about': 2, 'gazing': 1, 'sparkling': 1, 'left': 3, 'then': 1, 'rocky': 1, 'treespotted': 1, 'ahead': 1, 'who': 2, 'frowned': 2, 'question': 1, 'sense': 1, 'simply': 1, 'features': 1, 'change': 1, 'over': 2, 'uprooted': 1, 'by': 3, 'storm': 1, 'fall': 1, 'boulder': 1, 'decide': 1, 'tumble': 1, 'hillside': 1, 'animated': 1, 'things': 2, 'reshaping': 1, 'essential': 1, 'changed': 1, 'existed': 1, 'sun': 1, 'trying': 1, 'think': 2, 'some': 2, 'express': 1, 'thoughts': 1, 'deer': 7, 'drinking': 1, 'approach': 1, 'bolted': 1, 'brushy': 1, 'bank': 4, 'onto': 1, 'instead': 2, 'running': 1, 'safety': 1, 'creature': 3, 'stood': 1, 'stared': 1, 'clearly': 1, 'if': 1, 'whispered': 1, 'aloud': 1, 'words': 1, 'me': 1, 'offering': 1, 'herself': 1, 'turned': 1, 'shout': 2, 'order': 1, 'skilled': 2, 'hunter': 1, 'youth': 1, 'po': 6, 'already': 1, 'motion': 1, 'forward': 1, 'raised': 1, 'sharpened': 1, 'stick': 1, 'carried': 2, 'hurled': 1, 'whistling': 1, 'through': 1, 'air': 1, 'between': 1, 'heartbeat': 1, 'later': 1, 'spear': 2, 'struck': 1, 'breast': 1, 'force': 1, 'knocked': 1, 'ground': 1, 'unable': 1, 'rise': 1, 'thrashed': 1, 'neck': 1, 'flailed': 1, 'slender': 1, 'legs': 1, 'past': 1, 'pulled': 1, 'free': 1, 'stabbed': 1, 'released': 1, 'stifled': 1, 'noise': 1, 'gasp': 1, 'stopped': 1, 'moving': 1, 'cheer': 1, 'another': 2, 'dinner': 1, 'venison': 2, 'distance': 2, 'riverbank': 1, 'year—early': 1, 'summer—the': 1, 'too': 1, 'high': 1, 'wade': 1, 'ago': 1, 'rafts': 4, 'branches': 1, 'lashed': 1, 'together': 1, 'leather': 1, 'thongs': 1, 'riverbanks': 1, 'repairing': 1, 'replacing': 1, 'needed': 1, 'three': 2, 'condition': 1, 'east': 1, 'two': 6, 'still': 2, 'missing': 1, 'i': 5, 'there—pulled': 1, 'almost': 1, 'hidden': 1, 'those': 1, 'leaves': 1, 'whose': 1, 'eyes': 2, 'sharp': 1, 'someone': 1, 'must': 1, 'used': 1, 'cross': 1, 'perhaps': 1, 'begrudge': 1, 'others': 2, 'use': 1, 'large': 1, 'enough': 1, 'share': 2, 'nonetheless': 1, 'situation': 1, 'required': 1, 'caution': 1, 'cupped': 1, 'hands': 2, 'gave': 1, 'appeared': 1, 'waved': 1, 'do': 1, 'squinting': 1, 'don': 1, 'young—my': 1, 'younger': 1, 'd': 1, 'looks': 1, 'stranger': 3, 'brawniness': 1, 'impressive': 1, 'wore': 1, 'tunic': 1, 'without': 1, 'sleeves': 1, 'wiry': 1, 'sidelong': 1, 'm': 1, 'sure': 1, 'why': 1, 'smiling': 2, 'us': 1, 'fact': 1, 'alone': 1, 'name': 2, 'tarketios': 5, 'much': 1, 'more': 2, 'tell': 1, 'language': 1, 'recognize': 1, 'word': 1, 'seemed': 2, 'convoluted': 1, 'understanding': 2, 'easier': 1, 'strange': 1, 'noises': 1, 'uttered': 1, 'companions': 2, 'friendly': 1, 'presented': 1, 'threat': 1, 'numerous': 1, 'older': 1, 'metalworkers': 1, 'region': 1, 'hundred': 1, 'miles': 1, 'north': 1, 'rich': 1, 'iron': 1, 'copper': 1, 'lead': 1, 'trading': 1, 'south': 1, 'returning': 1, 'seashore': 1, 'perpendicular': 1, 'traversed': 1, 'plain': 1, 'provided': 1, 'easy': 1, 'ford': 1, 'here': 1, 'paths': 1, 'intersected': 1, 'occasion': 1, 'metal': 1, 'happened': 1, 'arrive': 1, 'same': 1, 'met': 1, 'groups': 1, 'separate': 1, 'camps': 1, 'opposite': 1, 'ends': 1, 'gesture': 1, 'friendship': 1, 'speaking': 1, 'invited': 1, 'hosts': 1, 'guests': 1, 'feasted': 1, 'roasting': 1, 'tried': 1, 'explain': 1, 'craft': 1, 'firelight': 2, 'glittered': 1, 'watched': 1, 'point': 1, 'flames': 1, 'mime': 1, 'act': 1, 'hammering': 1, 'danced': 1, 'flexing': 1, 'muscles': 1, 'shoulders': 1, 'smiled': 1, 'grin': 1, 'boast': 1, 'teeth': 1, 'white': 1, 'perfect': 1}\n"
          ]
        }
      ]
    },
    {
      "cell_type": "code",
      "source": [
        "len(wordFreq.keys())"
      ],
      "metadata": {
        "colab": {
          "base_uri": "https://localhost:8080/"
        },
        "id": "IMobSFjcKbkZ",
        "outputId": "b0a202d8-d395-4d99-b95d-e07ec7192998"
      },
      "execution_count": null,
      "outputs": [
        {
          "output_type": "execute_result",
          "data": {
            "text/plain": [
              "726"
            ]
          },
          "metadata": {},
          "execution_count": 11
        }
      ]
    },
    {
      "cell_type": "code",
      "source": [
        "#Stop Words Removal\n",
        "#Stop words merupakan kata umum yang sering muncul dan tidak memiliki makna sehingga tidak memberikan informasi yg penting.\n",
        "#Contoh ini menggunakan english stop words, bahasa stopwords yang digunakan dapat kamu sesuaikan dengan kebutuhan. kamu dapat menggunakan stopwords bahasa indonesia.\n",
        "print(stopwords.words('english'))"
      ],
      "metadata": {
        "colab": {
          "base_uri": "https://localhost:8080/"
        },
        "id": "HebGvUFEKhAs",
        "outputId": "683d3622-a2b8-423b-d7f5-7da00ecabf12"
      },
      "execution_count": null,
      "outputs": [
        {
          "output_type": "stream",
          "name": "stdout",
          "text": [
            "['i', 'me', 'my', 'myself', 'we', 'our', 'ours', 'ourselves', 'you', \"you're\", \"you've\", \"you'll\", \"you'd\", 'your', 'yours', 'yourself', 'yourselves', 'he', 'him', 'his', 'himself', 'she', \"she's\", 'her', 'hers', 'herself', 'it', \"it's\", 'its', 'itself', 'they', 'them', 'their', 'theirs', 'themselves', 'what', 'which', 'who', 'whom', 'this', 'that', \"that'll\", 'these', 'those', 'am', 'is', 'are', 'was', 'were', 'be', 'been', 'being', 'have', 'has', 'had', 'having', 'do', 'does', 'did', 'doing', 'a', 'an', 'the', 'and', 'but', 'if', 'or', 'because', 'as', 'until', 'while', 'of', 'at', 'by', 'for', 'with', 'about', 'against', 'between', 'into', 'through', 'during', 'before', 'after', 'above', 'below', 'to', 'from', 'up', 'down', 'in', 'out', 'on', 'off', 'over', 'under', 'again', 'further', 'then', 'once', 'here', 'there', 'when', 'where', 'why', 'how', 'all', 'any', 'both', 'each', 'few', 'more', 'most', 'other', 'some', 'such', 'no', 'nor', 'not', 'only', 'own', 'same', 'so', 'than', 'too', 'very', 's', 't', 'can', 'will', 'just', 'don', \"don't\", 'should', \"should've\", 'now', 'd', 'll', 'm', 'o', 're', 've', 'y', 'ain', 'aren', \"aren't\", 'couldn', \"couldn't\", 'didn', \"didn't\", 'doesn', \"doesn't\", 'hadn', \"hadn't\", 'hasn', \"hasn't\", 'haven', \"haven't\", 'isn', \"isn't\", 'ma', 'mightn', \"mightn't\", 'mustn', \"mustn't\", 'needn', \"needn't\", 'shan', \"shan't\", 'shouldn', \"shouldn't\", 'wasn', \"wasn't\", 'weren', \"weren't\", 'won', \"won't\", 'wouldn', \"wouldn't\"]\n"
          ]
        }
      ]
    },
    {
      "cell_type": "code",
      "source": [
        "en_StopWords = stopwords.words('english')"
      ],
      "metadata": {
        "id": "APIkvJWxKndw"
      },
      "execution_count": null,
      "outputs": []
    },
    {
      "cell_type": "code",
      "source": [
        "#Remove Stopwords\n",
        "word_unique = list(wordFreq.keys())\n",
        "\n",
        "for word in word_unique:\n",
        "  if word in en_StopWords:\n",
        "    del wordFreq[word]\n",
        "\n",
        "word_unique = list(wordFreq.keys())"
      ],
      "metadata": {
        "id": "lUMSCNS9K6FO"
      },
      "execution_count": null,
      "outputs": []
    },
    {
      "cell_type": "code",
      "source": [
        "len(wordFreq.keys())"
      ],
      "metadata": {
        "colab": {
          "base_uri": "https://localhost:8080/"
        },
        "id": "Wqn8u2azNVYy",
        "outputId": "888aeb80-f8c7-49a9-d4d0-70ea362bb77e"
      },
      "execution_count": null,
      "outputs": [
        {
          "output_type": "execute_result",
          "data": {
            "text/plain": [
              "628"
            ]
          },
          "metadata": {},
          "execution_count": 16
        }
      ]
    },
    {
      "cell_type": "code",
      "source": [
        "#Stemming English with SnowballStemmer\n",
        "#stemming digunakan untuk menghapus imbuhan kata. awalan atau akhiran kata.\n",
        "stemmer = SnowballStemmer('english')\n",
        "\n",
        "#Word Lematizing\n",
        "#Lematisasi digunaan untuk mengembalikan kata pada kata dasarnya dengan mengetahui konteks dari suatu kata. misalnya leaves -> laef\n",
        "lemmatizer = WordNetLemmatizer()"
      ],
      "metadata": {
        "id": "jCe6_486Npt5"
      },
      "execution_count": null,
      "outputs": []
    },
    {
      "cell_type": "code",
      "source": [
        "#Comparing the Result of Stemming anda Lematization\n",
        "for word in word_unique:\n",
        "  print(word, '|', lemmatizer.lemmatize(word), '|', lemmatizer.lemmatize(stemmer.stem(word)), '|', stemmer.stem(lemmatizer.lemmatize(word)))"
      ],
      "metadata": {
        "colab": {
          "base_uri": "https://localhost:8080/"
        },
        "id": "RH7i5B5CPb5e",
        "outputId": "5bbf63c2-8643-4856-b334-b317e4ca71f8"
      },
      "execution_count": null,
      "outputs": [
        {
          "output_type": "stream",
          "name": "stdout",
          "text": [
            "chapter | chapter | chapter | chapter\n",
            "one | one | one | one\n",
            "stop | stop | stop | stop\n",
            "salt | salt | salt | salt\n",
            "route | route | rout | rout\n",
            "1000 | 1000 | 1000 | 1000\n",
            "bc | bc | bc | bc\n",
            "rounded | rounded | round | round\n",
            "bend | bend | bend | bend\n",
            "path | path | path | path\n",
            "ran | ran | ran | ran\n",
            "beside | beside | besid | besid\n",
            "river | river | river | river\n",
            "lara | lara | lara | lara\n",
            "recognized | recognized | recogn | recogn\n",
            "silhouette | silhouette | silhouett | silhouett\n",
            "fig | fig | fig | fig\n",
            "tree | tree | tree | tree\n",
            "atop | atop | atop | atop\n",
            "nearby | nearby | nearbi | nearbi\n",
            "hill | hill | hill | hill\n",
            "weather | weather | weather | weather\n",
            "hot | hot | hot | hot\n",
            "days | day | day | day\n",
            "long | long | long | long\n",
            "full | full | full | full\n",
            "leaf | leaf | leaf | leaf\n",
            "yet | yet | yet | yet\n",
            "bearing | bearing | bear | bear\n",
            "fruit | fruit | fruit | fruit\n",
            "soon | soon | soon | soon\n",
            "spotted | spotted | spot | spot\n",
            "landmarks—an | landmarks—an | landmarks—an | landmarks—an\n",
            "outcropping | outcropping | outcrop | outcrop\n",
            "limestone | limestone | limeston | limeston\n",
            "like | like | like | like\n",
            "man | man | man | man\n",
            "’ | ’ | ’ | ’\n",
            "face | face | face | face\n",
            "marshy | marshy | marshi | marshi\n",
            "spot | spot | spot | spot\n",
            "waterfowl | waterfowl | waterfowl | waterfowl\n",
            "easily | easily | easili | easili\n",
            "startled | startled | startl | startl\n",
            "tall | tall | tall | tall\n",
            "looked | looked | look | look\n",
            "arms | arm | arm | arm\n",
            "upraised | upraised | uprais | uprais\n",
            "drawing | drawing | draw | draw\n",
            "near | near | near | near\n",
            "place | place | place | place\n",
            "island | island | island | island\n",
            "good | good | good | good\n",
            "make | make | make | make\n",
            "camp | camp | camp | camp\n",
            "would | would | would | would\n",
            "sleep | sleep | sleep | sleep\n",
            "tonight | tonight | tonight | tonight\n",
            "back | back | back | back\n",
            "forth | forth | forth | forth\n",
            "along | along | along | along\n",
            "many | many | mani | mani\n",
            "times | time | time | time\n",
            "short | short | short | short\n",
            "life | life | life | life\n",
            "people | people | peopl | peopl\n",
            "created | created | creat | creat\n",
            "path—it | path—it | path—it | path—it\n",
            "always | always | alway | alway\n",
            "river—but | river—but | river—but | river—but\n",
            "deerskinshod | deerskinshod | deerskinshod | deerskinshod\n",
            "feet | foot | foot | foot\n",
            "wooden | wooden | wooden | wooden\n",
            "wheels | wheel | wheel | wheel\n",
            "handcarts | handcart | handcart | handcart\n",
            "kept | kept | kept | kept\n",
            "well | well | well | well\n",
            "worn | worn | worn | worn\n",
            "traders | trader | trader | trader\n",
            "livelihood | livelihood | livelihood | livelihood\n",
            "took | took | took | took\n",
            "continual | continual | continu | continu\n",
            "journey | journey | journey | journey\n",
            "mouth | mouth | mouth | mouth\n",
            "little | little | littl | littl\n",
            "group | group | group | group\n",
            "half | half | half | half\n",
            "dozen | dozen | dozen | dozen\n",
            "intermingled | intermingled | intermingl | intermingl\n",
            "families | family | famili | famili\n",
            "gathered | gathered | gather | gather\n",
            "great | great | great | great\n",
            "beds | bed | bed | bed\n",
            "sea | sea | sea | sea\n",
            "groomed | groomed | groom | groom\n",
            "sifted | sifted | sift | sift\n",
            "loaded | loaded | load | load\n",
            "carts | cart | cart | cart\n",
            "stay | stay | stay | stay\n",
            "behind | behind | behind | behind\n",
            "taking | taking | take | take\n",
            "shelter | shelter | shelter | shelter\n",
            "amid | amid | amid | amid\n",
            "rocks | rock | rock | rock\n",
            "simple | simple | simpl | simpl\n",
            "leantos | leantos | leanto | leanto\n",
            "band | band | band | band\n",
            "fifteen | fifteen | fifteen | fifteen\n",
            "heartier | heartier | heartier | heartier\n",
            "members | member | member | member\n",
            "set | set | set | set\n",
            "alongside | alongside | alongsid | alongsid\n",
            "precious | precious | precious | precious\n",
            "cargo | cargo | cargo | cargo\n",
            "travelers | traveler | travel | travel\n",
            "crossed | crossed | cross | cross\n",
            "coastal | coastal | coastal | coastal\n",
            "lowlands | lowland | lowland | lowland\n",
            "traveled | traveled | travel | travel\n",
            "toward | toward | toward | toward\n",
            "mountains | mountain | mountain | mountain\n",
            "never | never | never | never\n",
            "reached | reached | reach | reach\n",
            "mountaintops | mountaintops | mountaintop | mountaintop\n",
            "far | far | far | far\n",
            "foothills | foothill | foothil | foothil\n",
            "lived | lived | live | live\n",
            "forests | forest | forest | forest\n",
            "grassy | grassy | grassi | grassi\n",
            "meadows | meadow | meadow | meadow\n",
            "small | small | small | small\n",
            "villages | village | villag | villag\n",
            "return | return | return | return\n",
            "give | give | give | give\n",
            "dried | dried | dri | dri\n",
            "meat | meat | meat | meat\n",
            "animal | animal | anim | anim\n",
            "skins | skin | skin | skin\n",
            "cloth | cloth | cloth | cloth\n",
            "spun | spun | spun | spun\n",
            "wool | wool | wool | wool\n",
            "clay | clay | clay | clay\n",
            "pots | pot | pot | pot\n",
            "needles | needle | needl | needl\n",
            "scraping | scraping | scrape | scrape\n",
            "tools | tool | tool | tool\n",
            "carved | carved | carv | carv\n",
            "bone | bone | bone | bone\n",
            "toys | toy | toy | toy\n",
            "made | made | made | made\n",
            "wood | wood | wood | wood\n",
            "bartering | bartering | barter | barter\n",
            "done | done | done | done\n",
            "travel | travel | travel | travel\n",
            "cycle | cycle | cycl | cycl\n",
            "begin | begin | begin | begin\n",
            "knew | knew | knew | knew\n",
            "single | single | singl | singl\n",
            "home | home | home | home\n",
            "liked | liked | like | like\n",
            "seaside | seaside | seasid | seasid\n",
            "fish | fish | fish | fish\n",
            "eat | eat | eat | eat\n",
            "gentle | gentle | gentl | gentl\n",
            "lapping | lapping | lap | lap\n",
            "waves | wave | wave | wave\n",
            "lulled | lulled | lull | lull\n",
            "night | night | night | night\n",
            "less | le | le | le\n",
            "fond | fond | fond | fond\n",
            "grew | grew | grew | grew\n",
            "steep | steep | steep | steep\n",
            "nights | night | night | night\n",
            "could | could | could | could\n",
            "cold | cold | cold | cold\n",
            "views | view | view | view\n",
            "distances | distance | distanc | distanc\n",
            "dizzy | dizzy | dizzi | dizzi\n",
            "felt | felt | felt | felt\n",
            "uneasy | uneasy | uneasi | uneasi\n",
            "often | often | often | often\n",
            "shy | shy | shi | shi\n",
            "around | around | around | around\n",
            "strangers | stranger | stranger | stranger\n",
            "loved | loved | love | love\n",
            "smell | smell | smell | smell\n",
            "day | day | day | day\n",
            "croaking | croaking | croak | croak\n",
            "frogs | frog | frog | frog\n",
            "vines | vine | vine | vine\n",
            "lush | lush | lush | lush\n",
            "foliage | foliage | foliag | foliag\n",
            "berries | berry | berri | berri\n",
            "even | even | even | even\n",
            "hottest | hottest | hottest | hottest\n",
            "sundown | sundown | sundown | sundown\n",
            "brought | brought | brought | brought\n",
            "cool | cool | cool | cool\n",
            "breeze | breeze | breez | breez\n",
            "water | water | water | water\n",
            "sighed | sighed | sigh | sigh\n",
            "sang | sang | sang | sang\n",
            "reeds | reed | reed | reed\n",
            "grasses | grass | grass | grass\n",
            "places | place | place | place\n",
            "area | area | area | area\n",
            "approaching | approaching | approach | approach\n",
            "favorite | favorite | favorit | favorit\n",
            "terrain | terrain | terrain | terrain\n",
            "stretch | stretch | stretch | stretch\n",
            "mostly | mostly | most | most\n",
            "flat | flat | flat | flat\n",
            "immediate | immediate | immedi | immedi\n",
            "vicinity | vicinity | vicin | vicin\n",
            "land | land | land | land\n",
            "sunrise | sunrise | sunris | sunris\n",
            "side | side | side | side\n",
            "rumpled | rumpled | rumpl | rumpl\n",
            "hills | hill | hill | hill\n",
            "ridges | ridge | ridg | ridg\n",
            "valleys | valley | valley | valley\n",
            "among | among | among | among\n",
            "baby | baby | babi | babi\n",
            "crib | crib | crib | crib\n",
            "suitable | suitable | suitabl | suitabl\n",
            "strapping | strapping | strap | strap\n",
            "cart | cart | cart | cart\n",
            "passed | passed | pas | pass\n",
            "generations | generation | generat | generat\n",
            "shaped | shaped | shape | shape\n",
            "longer | longer | longer | longer\n",
            "wide | wide | wide | wide\n",
            "pointed | pointed | point | point\n",
            "upriver | upriver | upriv | upriv\n",
            "end | end | end | end\n",
            "flow | flow | flow | flow\n",
            "eroded | eroded | erod | erod\n",
            "banks | bank | bank | bank\n",
            "old | old | old | old\n",
            "women | woman | woman | woman\n",
            "mantled | mantled | mantl | mantl\n",
            "heavy | heavy | heavi | heavi\n",
            "cloaks | cloak | cloak | cloak\n",
            "look | look | look | look\n",
            "crib—that | crib—that | crib—that | crib—that\n",
            "father | father | father | father\n",
            "described | described | describ | describ\n",
            "lay | lay | lay | lay\n",
            "larth | larth | larth | larth\n",
            "spoke | spoke | spoke | spoke\n",
            "time | time | time | time\n",
            "conjuring | conjuring | conjur | conjur\n",
            "images | image | imag | imag\n",
            "giants | giant | giant | giant\n",
            "monsters | monster | monster | monster\n",
            "landscape | landscape | landscap | landscap\n",
            "perceive | perceive | perceiv | perceiv\n",
            "spirits | spirit | spirit | spirit\n",
            "called | called | call | call\n",
            "numina | numen | numen | numen\n",
            "dwelled | dwelled | dwell | dwell\n",
            "trees | tree | tree | tree\n",
            "sometimes | sometimes | sometim | sometim\n",
            "speak | speak | speak | speak\n",
            "hear | hear | hear | hear\n",
            "say | say | say | say\n",
            "oldest | oldest | oldest | oldest\n",
            "friend | friend | friend | friend\n",
            "told | told | told | told\n",
            "fishing | fishing | fish | fish\n",
            "best | best | best | best\n",
            "whispers | whisper | whisper | whisper\n",
            "wind | wind | wind | wind\n",
            "foretell | foretell | foretel | foretel\n",
            "next | next | next | next\n",
            "skills | skill | skill | skill\n",
            "leader | leader | leader | leader\n",
            "“ | “ | “ | “\n",
            "close | close | close | close\n",
            "papa | papa | papa | papa\n",
            "” | ” | ” | ”\n",
            "said | said | said | said\n",
            "know | know | know | know\n",
            "first | first | first | first\n",
            "start | start | start | start\n",
            "see | see | see | see\n",
            "right | right | right | right\n",
            "grow | grow | grow | grow\n",
            "bigger | bigger | bigger | bigger\n",
            "come | come | come | come\n",
            "crest | crest | crest | crest\n",
            "girl | girl | girl | girl\n",
            "proud | proud | proud | proud\n",
            "daughter | daughter | daughter | daughter\n",
            "memory | memory | memori | memori\n",
            "powers | power | power | power\n",
            "observation | observation | observ | observ\n",
            "strong | strong | strong | strong\n",
            "handsome | handsome | handsom | handsom\n",
            "flecks | fleck | fleck | fleck\n",
            "gray | gray | gray | gray\n",
            "black | black | black | black\n",
            "beard | beard | beard | beard\n",
            "wife | wife | wife | wife\n",
            "borne | borne | born | born\n",
            "several | several | sever | sever\n",
            "children | child | child | child\n",
            "died | died | die | die\n",
            "young | young | young | young\n",
            "except | except | except | except\n",
            "last | last | last | last\n",
            "mother | mother | mother | mother\n",
            "golden | golden | golden | golden\n",
            "hair | hair | hair | hair\n",
            "age | age | age | age\n",
            "childbearing | childbearing | childbear | childbear\n",
            "beginning | beginning | begin | begin\n",
            "display | display | display | display\n",
            "fullness | fullness | full | full\n",
            "woman | woman | woman | woman\n",
            "hips | hip | hip | hip\n",
            "breasts | breast | breast | breast\n",
            "greatest | greatest | greatest | greatest\n",
            "wish | wish | wish | wish\n",
            "might | might | might | might\n",
            "live | live | live | live\n",
            "grandchildren | grandchild | grandchild | grandchild\n",
            "every | every | everi | everi\n",
            "hopeful | hopeful | hope | hope\n",
            "healthy | healthy | healthi | healthi\n",
            "partly | partly | part | part\n",
            "believed | believed | believ | believ\n",
            "careful | careful | care | care\n",
            "show | show | show | show\n",
            "respect | respect | respect | respect\n",
            "encountered | encountered | encount | encount\n",
            "journeys | journey | journey | journey\n",
            "respecting | respecting | respect | respect\n",
            "important | important | import | import\n",
            "numen | numen | numen | numen\n",
            "suck | suck | suck | suck\n",
            "drown | drown | drown | drown\n",
            "trip | trip | trip | trip\n",
            "roots | root | root | root\n",
            "drop | drop | drop | drop\n",
            "rotten | rotten | rotten | rotten\n",
            "branch | branch | branch | branch\n",
            "head | head | head | head\n",
            "way | way | way | way\n",
            "underfoot | underfoot | underfoot | underfoot\n",
            "chuckling | chuckling | chuckl | chuckl\n",
            "amusement | amusement | amus | amus\n",
            "treachery | treachery | treacheri | treacheri\n",
            "sky | sky | sky | sky\n",
            "roar | roar | roar | roar\n",
            "fury | fury | furi | furi\n",
            "sent | sent | sent | sent\n",
            "fingers | finger | finger | finger\n",
            "fire | fire | fire | fire\n",
            "roast | roast | roast | roast\n",
            "rabbit | rabbit | rabbit | rabbit\n",
            "spit | spit | spit | spit\n",
            "worse | worse | wors | wors\n",
            "leave | leave | leav | leav\n",
            "alive | alive | aliv | aliv\n",
            "robbed | robbed | rob | rob\n",
            "senses | sens | sen | sen\n",
            "heard | heard | heard | heard\n",
            "earth | earth | earth | earth\n",
            "open | open | open | open\n",
            "swallow | swallow | swallow | swallow\n",
            "though | though | though | though\n",
            "actually | actually | actual | actual\n",
            "seen | seen | seen | seen\n",
            "thing | thing | thing | thing\n",
            "nevertheless | nevertheless | nevertheless | nevertheless\n",
            "performed | performed | perform | perform\n",
            "ritual | ritual | ritual | ritual\n",
            "morning | morning | morn | morn\n",
            "asking | asking | ask | ask\n",
            "permission | permission | permiss | permiss\n",
            "went | went | went | went\n",
            "striding | striding | stride | stride\n",
            "across | across | across | across\n",
            "something | something | someth | someth\n",
            "special | special | special | special\n",
            "gazing | gazing | gaze | gaze\n",
            "sparkling | sparkling | sparkl | sparkl\n",
            "left | left | left | left\n",
            "rocky | rocky | rocki | rocki\n",
            "treespotted | treespotted | treespot | treespot\n",
            "ahead | ahead | ahead | ahead\n",
            "frowned | frowned | frown | frown\n",
            "question | question | question | question\n",
            "sense | sense | sen | sens\n",
            "simply | simply | simpli | simpli\n",
            "features | feature | featur | featur\n",
            "change | change | chang | chang\n",
            "uprooted | uprooted | uproot | uproot\n",
            "storm | storm | storm | storm\n",
            "fall | fall | fall | fall\n",
            "boulder | boulder | boulder | boulder\n",
            "decide | decide | decid | decid\n",
            "tumble | tumble | tumbl | tumbl\n",
            "hillside | hillside | hillsid | hillsid\n",
            "animated | animated | anim | anim\n",
            "things | thing | thing | thing\n",
            "reshaping | reshaping | reshap | reshap\n",
            "essential | essential | essenti | essenti\n",
            "changed | changed | chang | chang\n",
            "existed | existed | exist | exist\n",
            "sun | sun | sun | sun\n",
            "trying | trying | tri | tri\n",
            "think | think | think | think\n",
            "express | express | express | express\n",
            "thoughts | thought | thought | thought\n",
            "deer | deer | deer | deer\n",
            "drinking | drinking | drink | drink\n",
            "approach | approach | approach | approach\n",
            "bolted | bolted | bolt | bolt\n",
            "brushy | brushy | brushi | brushi\n",
            "bank | bank | bank | bank\n",
            "onto | onto | onto | onto\n",
            "instead | instead | instead | instead\n",
            "running | running | run | run\n",
            "safety | safety | safeti | safeti\n",
            "creature | creature | creatur | creatur\n",
            "stood | stood | stood | stood\n",
            "stared | stared | stare | stare\n",
            "clearly | clearly | clear | clear\n",
            "whispered | whispered | whisper | whisper\n",
            "aloud | aloud | aloud | aloud\n",
            "words | word | word | word\n",
            "offering | offering | offer | offer\n",
            "turned | turned | turn | turn\n",
            "shout | shout | shout | shout\n",
            "order | order | order | order\n",
            "skilled | skilled | skill | skill\n",
            "hunter | hunter | hunter | hunter\n",
            "youth | youth | youth | youth\n",
            "po | po | po | po\n",
            "already | already | alreadi | alreadi\n",
            "motion | motion | motion | motion\n",
            "forward | forward | forward | forward\n",
            "raised | raised | rais | rais\n",
            "sharpened | sharpened | sharpen | sharpen\n",
            "stick | stick | stick | stick\n",
            "carried | carried | carri | carri\n",
            "hurled | hurled | hurl | hurl\n",
            "whistling | whistling | whistl | whistl\n",
            "air | air | air | air\n",
            "heartbeat | heartbeat | heartbeat | heartbeat\n",
            "later | later | later | later\n",
            "spear | spear | spear | spear\n",
            "struck | struck | struck | struck\n",
            "breast | breast | breast | breast\n",
            "force | force | forc | forc\n",
            "knocked | knocked | knock | knock\n",
            "ground | ground | ground | ground\n",
            "unable | unable | unabl | unabl\n",
            "rise | rise | rise | rise\n",
            "thrashed | thrashed | thrash | thrash\n",
            "neck | neck | neck | neck\n",
            "flailed | flailed | flail | flail\n",
            "slender | slender | slender | slender\n",
            "legs | leg | leg | leg\n",
            "past | past | past | past\n",
            "pulled | pulled | pull | pull\n",
            "free | free | free | free\n",
            "stabbed | stabbed | stab | stab\n",
            "released | released | releas | releas\n",
            "stifled | stifled | stifl | stifl\n",
            "noise | noise | nois | nois\n",
            "gasp | gasp | gasp | gasp\n",
            "stopped | stopped | stop | stop\n",
            "moving | moving | move | move\n",
            "cheer | cheer | cheer | cheer\n",
            "another | another | anoth | anoth\n",
            "dinner | dinner | dinner | dinner\n",
            "venison | venison | venison | venison\n",
            "distance | distance | distanc | distanc\n",
            "riverbank | riverbank | riverbank | riverbank\n",
            "year—early | year—early | year—ear | year—ear\n",
            "summer—the | summer—the | summer—th | summer—th\n",
            "high | high | high | high\n",
            "wade | wade | wade | wade\n",
            "ago | ago | ago | ago\n",
            "rafts | raft | raft | raft\n",
            "branches | branch | branch | branch\n",
            "lashed | lashed | lash | lash\n",
            "together | together | togeth | togeth\n",
            "leather | leather | leather | leather\n",
            "thongs | thong | thong | thong\n",
            "riverbanks | riverbank | riverbank | riverbank\n",
            "repairing | repairing | repair | repair\n",
            "replacing | replacing | replac | replac\n",
            "needed | needed | need | need\n",
            "three | three | three | three\n",
            "condition | condition | condit | condit\n",
            "east | east | east | east\n",
            "two | two | two | two\n",
            "still | still | still | still\n",
            "missing | missing | miss | miss\n",
            "there—pulled | there—pulled | there—pul | there—pul\n",
            "almost | almost | almost | almost\n",
            "hidden | hidden | hidden | hidden\n",
            "leaves | leaf | leav | leaf\n",
            "whose | whose | whose | whose\n",
            "eyes | eye | eye | eye\n",
            "sharp | sharp | sharp | sharp\n",
            "someone | someone | someon | someon\n",
            "must | must | must | must\n",
            "used | used | use | use\n",
            "cross | cross | cross | cross\n",
            "perhaps | perhaps | perhap | perhap\n",
            "begrudge | begrudge | begrudg | begrudg\n",
            "others | others | other | other\n",
            "use | use | use | use\n",
            "large | large | larg | larg\n",
            "enough | enough | enough | enough\n",
            "share | share | share | share\n",
            "nonetheless | nonetheless | nonetheless | nonetheless\n",
            "situation | situation | situat | situat\n",
            "required | required | requir | requir\n",
            "caution | caution | caution | caution\n",
            "cupped | cupped | cup | cup\n",
            "hands | hand | hand | hand\n",
            "gave | gave | gave | gave\n",
            "appeared | appeared | appear | appear\n",
            "waved | waved | wave | wave\n",
            "squinting | squinting | squint | squint\n",
            "young—my | young—my | young—mi | young—mi\n",
            "younger | younger | younger | younger\n",
            "looks | look | look | look\n",
            "stranger | stranger | stranger | stranger\n",
            "brawniness | brawniness | brawni | brawni\n",
            "impressive | impressive | impress | impress\n",
            "wore | wore | wore | wore\n",
            "tunic | tunic | tunic | tunic\n",
            "without | without | without | without\n",
            "sleeves | sleeve | sleev | sleev\n",
            "wiry | wiry | wiri | wiri\n",
            "sidelong | sidelong | sidelong | sidelong\n",
            "sure | sure | sure | sure\n",
            "smiling | smiling | smile | smile\n",
            "us | u | u | u\n",
            "fact | fact | fact | fact\n",
            "alone | alone | alon | alon\n",
            "name | name | name | name\n",
            "tarketios | tarketios | tarketio | tarketio\n",
            "much | much | much | much\n",
            "tell | tell | tell | tell\n",
            "language | language | languag | languag\n",
            "recognize | recognize | recogn | recogn\n",
            "word | word | word | word\n",
            "seemed | seemed | seem | seem\n",
            "convoluted | convoluted | convolut | convolut\n",
            "understanding | understanding | understand | understand\n",
            "easier | easier | easier | easier\n",
            "strange | strange | strang | strang\n",
            "noises | noise | nois | nois\n",
            "uttered | uttered | utter | utter\n",
            "companions | companion | companion | companion\n",
            "friendly | friendly | friend | friend\n",
            "presented | presented | present | present\n",
            "threat | threat | threat | threat\n",
            "numerous | numerous | numer | numer\n",
            "older | older | older | older\n",
            "metalworkers | metalworker | metalwork | metalwork\n",
            "region | region | region | region\n",
            "hundred | hundred | hundr | hundr\n",
            "miles | mile | mile | mile\n",
            "north | north | north | north\n",
            "rich | rich | rich | rich\n",
            "iron | iron | iron | iron\n",
            "copper | copper | copper | copper\n",
            "lead | lead | lead | lead\n",
            "trading | trading | trade | trade\n",
            "south | south | south | south\n",
            "returning | returning | return | return\n",
            "seashore | seashore | seashor | seashor\n",
            "perpendicular | perpendicular | perpendicular | perpendicular\n",
            "traversed | traversed | travers | travers\n",
            "plain | plain | plain | plain\n",
            "provided | provided | provid | provid\n",
            "easy | easy | easi | easi\n",
            "ford | ford | ford | ford\n",
            "paths | path | path | path\n",
            "intersected | intersected | intersect | intersect\n",
            "occasion | occasion | occas | occas\n",
            "metal | metal | metal | metal\n",
            "happened | happened | happen | happen\n",
            "arrive | arrive | arriv | arriv\n",
            "met | met | met | met\n",
            "groups | group | group | group\n",
            "separate | separate | separ | separ\n",
            "camps | camp | camp | camp\n",
            "opposite | opposite | opposit | opposit\n",
            "ends | end | end | end\n",
            "gesture | gesture | gestur | gestur\n",
            "friendship | friendship | friendship | friendship\n",
            "speaking | speaking | speak | speak\n",
            "invited | invited | invit | invit\n",
            "hosts | host | host | host\n",
            "guests | guest | guest | guest\n",
            "feasted | feasted | feast | feast\n",
            "roasting | roasting | roast | roast\n",
            "tried | tried | tri | tri\n",
            "explain | explain | explain | explain\n",
            "craft | craft | craft | craft\n",
            "firelight | firelight | firelight | firelight\n",
            "glittered | glittered | glitter | glitter\n",
            "watched | watched | watch | watch\n",
            "point | point | point | point\n",
            "flames | flame | flame | flame\n",
            "mime | mime | mime | mime\n",
            "act | act | act | act\n",
            "hammering | hammering | hammer | hammer\n",
            "danced | danced | danc | danc\n",
            "flexing | flexing | flex | flex\n",
            "muscles | muscle | muscl | muscl\n",
            "shoulders | shoulder | shoulder | shoulder\n",
            "smiled | smiled | smile | smile\n",
            "grin | grin | grin | grin\n",
            "boast | boast | boast | boast\n",
            "teeth | teeth | teeth | teeth\n",
            "white | white | white | white\n",
            "perfect | perfect | perfect | perfect\n"
          ]
        }
      ]
    },
    {
      "cell_type": "code",
      "source": [
        "#Pos Tagging\n",
        "#Pos tagging adalah pross memberi label pada kata sesuai dengan kelas suatu kata, misalnya kata kerja, kata sifat, keterangan.\n",
        "print(lemmatizer.lemmatize('flexing'))\n",
        "print(lemmatizer.lemmatize('flexing', pos = 'v'))"
      ],
      "metadata": {
        "colab": {
          "base_uri": "https://localhost:8080/"
        },
        "id": "CjwW8-QSQJxu",
        "outputId": "be7d10ab-e629-4cf5-fd44-a88aba0fd1e4"
      },
      "execution_count": null,
      "outputs": [
        {
          "output_type": "stream",
          "name": "stdout",
          "text": [
            "flexing\n",
            "flex\n"
          ]
        }
      ]
    },
    {
      "cell_type": "code",
      "source": [
        ""
      ],
      "metadata": {
        "id": "tyfRWu6KRpsK"
      },
      "execution_count": null,
      "outputs": []
    }
  ]
}